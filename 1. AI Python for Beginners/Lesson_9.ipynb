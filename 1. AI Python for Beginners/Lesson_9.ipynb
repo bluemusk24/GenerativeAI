{
 "cells": [
  {
   "cell_type": "markdown",
   "id": "817221c9",
   "metadata": {},
   "source": [
    "# L9: Building LLM prompts with variables"
   ]
  },
  {
   "cell_type": "markdown",
   "id": "36029c06",
   "metadata": {},
   "source": [
    "In the next cell, you will import the function `print_llm_response` that uses an LLM with an instruction that you provide as a string and displays the result."
   ]
  },
  {
   "cell_type": "code",
   "execution_count": 1,
   "id": "cc237f34",
   "metadata": {
    "height": 30
   },
   "outputs": [],
   "source": [
    "from helper_functions import print_llm_response"
   ]
  },
  {
   "cell_type": "markdown",
   "id": "3074c1f9",
   "metadata": {},
   "source": [
    "Basically, you can use that function as if you were asking a chatbot. You just need to provide your instructions as a string. For instance, you can ask \"What is the capital of France?\" using the following code:"
   ]
  },
  {
   "cell_type": "code",
   "execution_count": 2,
   "id": "afcf6686",
   "metadata": {
    "height": 30
   },
   "outputs": [
    {
     "name": "stdout",
     "output_type": "stream",
     "text": [
      "The capital of France is Paris.\n"
     ]
    }
   ],
   "source": [
    "print_llm_response(\"What is the capital of France?\")"
   ]
  },
  {
   "cell_type": "markdown",
   "id": "7e164d69",
   "metadata": {},
   "source": [
    "Let's ask the LLM for the lifestyle description for Otto Matic, whose name is stored in `name`, if he were a `dog_age` years old dog."
   ]
  },
  {
   "cell_type": "code",
   "execution_count": 3,
   "id": "196644ca",
   "metadata": {
    "height": 47
   },
   "outputs": [],
   "source": [
    "name = \"Otto Matic\"\n",
    "dog_age = 21/7"
   ]
  },
  {
   "cell_type": "code",
   "execution_count": 4,
   "id": "ad18f441",
   "metadata": {
    "height": 79
   },
   "outputs": [
    {
     "name": "stdout",
     "output_type": "stream",
     "text": [
      "At 3.0 years old, Otto Matic would be considered an adult dog. This life stage typically entails high energy levels, a strong interest in play and exercise, and a need for mental stimulation. Adult dogs may exhibit more independence, but still require regular exercise, social interaction, and training to maintain their well-being and behavior.\n"
     ]
    }
   ],
   "source": [
    "print_llm_response(f\"\"\"If {name} were a dog, he would be {dog_age} years old.\n",
    "Describe what life stage that would be for a dog and what that might \n",
    "entail in terms of energy level, interests, and behavior.\"\"\")"
   ]
  },
  {
   "cell_type": "markdown",
   "id": "8349cb53",
   "metadata": {},
   "source": [
    "<b>You just used AI with your own variables!</b> You used an LLM with instructions that included variables you defined in this notebook.\n",
    "\n",
    "<b>Congratulations 🎉🎉🎉</b>"
   ]
  },
  {
   "cell_type": "markdown",
   "id": "51181411",
   "metadata": {},
   "source": [
    "## Variable names restrictions"
   ]
  },
  {
   "cell_type": "markdown",
   "id": "89d94522",
   "metadata": {},
   "source": [
    "The following variable names also have some problems. Try to fix them yourself or use the help from the chatbot."
   ]
  },
  {
   "cell_type": "code",
   "execution_count": 5,
   "id": "af96e951",
   "metadata": {
    "height": 79
   },
   "outputs": [
    {
     "ename": "SyntaxError",
     "evalue": "EOL while scanning string literal (2204123030.py, line 2)",
     "output_type": "error",
     "traceback": [
      "\u001b[0;36m  Cell \u001b[0;32mIn[5], line 2\u001b[0;36m\u001b[0m\n\u001b[0;31m    driver's vehicle = \"colorful, asymmetric dinosaur car\"\u001b[0m\n\u001b[0m                                                          ^\u001b[0m\n\u001b[0;31mSyntaxError\u001b[0m\u001b[0;31m:\u001b[0m EOL while scanning string literal\n"
     ]
    }
   ],
   "source": [
    "driver = \"unicorn\"\n",
    "driver's vehicle = \"colorful, asymmetric dinosaur car\"\n",
    "favorite planet = \"Pluto"
   ]
  },
  {
   "cell_type": "code",
   "execution_count": 7,
   "id": "cbf27336",
   "metadata": {
    "height": 64
   },
   "outputs": [],
   "source": [
    "driver = \"unicorn\"\n",
    "drivers_vehicle = \"colorful, asymmetric dinosaur car\"\n",
    "favorite_planet = \"Pluto\""
   ]
  },
  {
   "cell_type": "markdown",
   "id": "59a3a881",
   "metadata": {},
   "source": [
    "Now, update the next cell with any changes you made in the previous cell."
   ]
  },
  {
   "cell_type": "code",
   "execution_count": 8,
   "id": "02b7e02c",
   "metadata": {
    "height": 62
   },
   "outputs": [
    {
     "name": "stdout",
     "output_type": "stream",
     "text": [
      "Once upon a time in a magical land far, far away, there was a unicorn named Sparkle and a colorful, asymmetric dinosaur car named Roary. They were both determined to win the prestigious Pluto Champion Cup, the most thrilling and challenging race in the entire universe.\n",
      "\n",
      "Sparkle, with her shimmering white coat and rainbow-colored mane, was known for her speed and agility. Roary, with his bright scales and roaring engine, was famous for his daring maneuvers and lightning-fast acceleration.\n",
      "\n",
      "The day of the race arrived, and the excitement in the air was palpable. The track was filled with twists and turns, loops and jumps, and obstacles of all kinds. The crowd cheered as Sparkle and Roary lined up at the starting line, ready to give it their all.\n",
      "\n",
      "The race began, and Sparkle and Roary raced neck and neck, each one pushing themselves to the limit. Sparkle weaved gracefully through the obstacles, her hooves barely touching the ground. Roary roared down the track, his wheels spinning and engine roaring.\n",
      "\n",
      "As they approached the finish line, it was clear that it was going to be a close race. Sparkle and Roary gave it their all, their determination shining in their eyes. And in the end, by the tiniest of margins, Sparkle crossed the finish line first, winning the Pluto Champion Cup.\n",
      "\n",
      "The crowd erupted into cheers as Sparkle was crowned the champion, her victory celebrated far and wide. Roary congratulated her with a roar of approval, showing that even in defeat, there was respect and sportsmanship.\n",
      "\n",
      "And so, Sparkle and Roary showed that in the world of racing, it's not always about winning, but about the thrill of the race and the joy of competing. And they became the best of friends, sharing many more adventures together in the magical land of racing.\n"
     ]
    }
   ],
   "source": [
    "print_llm_response(f\"\"\"Write me a 300 word children's story about a {driver} racing\n",
    "a {drivers_vehicle} for the {favorite_planet} champion cup.\"\"\")"
   ]
  },
  {
   "cell_type": "markdown",
   "id": "98ec7de7",
   "metadata": {},
   "source": [
    "## Extra practice\n",
    "\n",
    "Try the exercises below to practice the concepts from this lesson. Read the comments in each cell with the instructions for each exercise.\n",
    "\n",
    "<b>Feel free to use the chatbot if you need help.</b>"
   ]
  },
  {
   "cell_type": "code",
   "execution_count": 9,
   "id": "9fb2bd26",
   "metadata": {
    "height": 96
   },
   "outputs": [
    {
     "ename": "SyntaxError",
     "evalue": "invalid syntax (4159440144.py, line 2)",
     "output_type": "error",
     "traceback": [
      "\u001b[0;36m  Cell \u001b[0;32mIn[9], line 2\u001b[0;36m\u001b[0m\n\u001b[0;31m    1favorite-book = \"1001 Ways to Wear a Hat\"\u001b[0m\n\u001b[0m     ^\u001b[0m\n\u001b[0;31mSyntaxError\u001b[0m\u001b[0;31m:\u001b[0m invalid syntax\n"
     ]
    }
   ],
   "source": [
    "# Fix this code\n",
    "1favorite-book = \"1001 Ways to Wear a Hat\"\n",
    "\"2002 Ways to Wear a Scarf\" = second_fav_book\n",
    "print(f\"My most favorite book is {1favorite-book}, but I also like {second_fav_book})"
   ]
  },
  {
   "cell_type": "code",
   "execution_count": 15,
   "id": "7437db92",
   "metadata": {
    "height": 96
   },
   "outputs": [
    {
     "name": "stdout",
     "output_type": "stream",
     "text": [
      "My most favorite book is 1001 Ways to Wear a Hat, but I also like 2002 Ways to Wear a Scarf\n"
     ]
    }
   ],
   "source": [
    "# Fixed code\n",
    "favorite_book = \"1001 Ways to Wear a Hat\"\n",
    "second_fav_book = \"2002 Ways to Wear a Scarf\"\n",
    "print(f\"My most favorite book is {favorite_book}, but I also like {second_fav_book}\")"
   ]
  },
  {
   "cell_type": "code",
   "execution_count": 17,
   "id": "407023e6",
   "metadata": {
    "height": 215
   },
   "outputs": [
    {
     "name": "stdout",
     "output_type": "stream",
     "text": [
      "Based on your likes, I recommend you listen to \"Blinding Lights\" by The Weeknd.\n"
     ]
    }
   ],
   "source": [
    "# Make variables for your favorite game, movie, and food.\n",
    "# Then use print_llm_response to ask the LLM to recommend you\n",
    "# a new song to listen to based on your likes.\n",
    "\n",
    "favorite_game = 'soccer'\n",
    "favorite_movie = 'Commando'\n",
    "favorite_food = 'Pounded yam'\n",
    "\n",
    "print_llm_response(f\"\"\"recommend to me a new song to\n",
    "listen to based on my likes.\n",
    "\"\"\")"
   ]
  },
  {
   "cell_type": "markdown",
   "id": "ac3d07bd-a519-4436-a20a-63e5cc7c6120",
   "metadata": {},
   "source": [
    "* Note: I should have included the variables {favorite_game}, {favorite_movie}, {favorite_food} in the print_llm_response as part of the formatted string(f\"\"\")"
   ]
  },
  {
   "cell_type": "code",
   "execution_count": null,
   "id": "979408b2-ad4c-405d-a4fa-9f8cc1f70eec",
   "metadata": {},
   "outputs": [],
   "source": []
  }
 ],
 "metadata": {
  "kernelspec": {
   "display_name": "saturn (Python 3)",
   "language": "python",
   "name": "python3"
  },
  "language_info": {
   "codemirror_mode": {
    "name": "ipython",
    "version": 3
   },
   "file_extension": ".py",
   "mimetype": "text/x-python",
   "name": "python",
   "nbconvert_exporter": "python",
   "pygments_lexer": "ipython3",
   "version": "3.12.5"
  }
 },
 "nbformat": 4,
 "nbformat_minor": 5
}

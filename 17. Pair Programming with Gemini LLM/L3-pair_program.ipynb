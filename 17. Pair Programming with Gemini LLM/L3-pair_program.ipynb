{
 "cells": [
  {
   "cell_type": "markdown",
   "id": "9ee333b4-4b2e-4e45-8833-3a6e4782b46c",
   "metadata": {},
   "source": [
    "# Pair Programming Scenarios\n"
   ]
  },
  {
   "cell_type": "markdown",
   "id": "279e9386-c8cd-4825-afcc-43e3191cad69",
   "metadata": {},
   "source": [
    "#### Setup\n",
    "Set the ~~MakerSuite~~ Gemini API key with the provided helper function."
   ]
  },
  {
   "cell_type": "code",
   "execution_count": 1,
   "id": "39fa172d-0b5d-4fd1-9051-3d6f2e31730f",
   "metadata": {
    "height": 319
   },
   "outputs": [],
   "source": [
    "from utils import get_api_key\n",
    "# PaLM legacy\n",
    "## import google.generativeai as palm\n",
    "## palm.configure(api_key=get_api_key())\n",
    "\n",
    "# Gemini API\n",
    "# From now own with Gemini API\n",
    "import os\n",
    "import google.generativeai as genai\n",
    "from google.api_core import client_options as client_options_lib\n",
    "\n",
    "genai.configure(\n",
    "    api_key=get_api_key(),\n",
    "    transport=\"rest\",\n",
    "    client_options=client_options_lib.ClientOptions(\n",
    "        api_endpoint=os.getenv(\"GOOGLE_API_BASE\"),\n",
    "    )\n",
    ")"
   ]
  },
  {
   "cell_type": "markdown",
   "id": "18775c71-13f5-49ff-ac4a-d34cb33afb0a",
   "metadata": {},
   "source": [
    "#### Pick the model that generates text"
   ]
  },
  {
   "cell_type": "code",
   "execution_count": 2,
   "id": "a0ff7acb-6793-49b1-bf59-993c1a3bd612",
   "metadata": {
    "height": 64
   },
   "outputs": [
    {
     "data": {
      "text/plain": [
       "Model(name='models/text-bison-001',\n",
       "      base_model_id='',\n",
       "      version='001',\n",
       "      display_name='PaLM 2 (Legacy)',\n",
       "      description='A legacy model that understands text and generates text as an output',\n",
       "      input_token_limit=8196,\n",
       "      output_token_limit=1024,\n",
       "      supported_generation_methods=['generateText', 'countTextTokens', 'createTunedTextModel'],\n",
       "      temperature=0.7,\n",
       "      top_p=0.95,\n",
       "      top_k=40)"
      ]
     },
     "execution_count": 2,
     "metadata": {},
     "output_type": "execute_result"
    }
   ],
   "source": [
    "models = [m for m in genai.list_models() if 'generateText' in m.supported_generation_methods]\n",
    "model_bison = models[0]\n",
    "model_bison"
   ]
  },
  {
   "cell_type": "code",
   "execution_count": 4,
   "id": "2194d2d2",
   "metadata": {
    "height": 47
   },
   "outputs": [],
   "source": [
    "# Set the model to connect to the Gemini API\n",
    "model_flash = genai.GenerativeModel(model_name='gemini-1.5-flash')"
   ]
  },
  {
   "cell_type": "markdown",
   "id": "8b6efbc6-7f98-4760-9ac0-3b513ef47d6a",
   "metadata": {},
   "source": [
    "### Legacy PaLM API\n",
    "#### Helper function to call the PaLM API\n",
    "\n",
    "```Python\n",
    "from google.api_core import retry\n",
    "@retry.Retry()\n",
    "def generate_text(prompt, \n",
    "                  model=model_bison, \n",
    "                  temperature=0.0):\n",
    "    return palm.generate_text(prompt=prompt,\n",
    "                              model=model,\n",
    "                              temperature=temperature)\n",
    "```"
   ]
  },
  {
   "cell_type": "markdown",
   "id": "c5bba3e1",
   "metadata": {},
   "source": [
    "### Helper function to call the Gemini API"
   ]
  },
  {
   "cell_type": "code",
   "execution_count": 5,
   "id": "008d0c81-4a13-42e2-b0e3-5fe65c56fc18",
   "metadata": {
    "height": 98
   },
   "outputs": [],
   "source": [
    "def generate_text(prompt,\n",
    "                  model=model_flash,\n",
    "                  temperature=0.0):\n",
    "    return model_flash.generate_content(prompt,\n",
    "                                  generation_config={'temperature':temperature})"
   ]
  },
  {
   "cell_type": "markdown",
   "id": "00d25195-6e75-4617-a70c-f5486f9300bb",
   "metadata": {},
   "source": [
    "### Scenario 1: Improve existing code\n",
    "- An LLM can help you rewrite your code in the way that's recommended for that particular language.\n",
    "- You can ask an LLM to rewrite your Python code in a way that is more 'Pythonic\"."
   ]
  },
  {
   "cell_type": "code",
   "execution_count": 6,
   "id": "7d76836a-7e57-4858-8ae5-0e2b6f6ae682",
   "metadata": {
    "height": 132
   },
   "outputs": [],
   "source": [
    "prompt_template = \"\"\"\n",
    "I don't think this code is the best way to do it in Python, can you help me?\n",
    "\n",
    "{question}\n",
    "\n",
    "Please explain, in detail, what you did to improve it.\n",
    "\"\"\""
   ]
  },
  {
   "cell_type": "code",
   "execution_count": 7,
   "id": "b98d292a-4c66-4fe0-94f9-09de640f075e",
   "metadata": {
    "height": 98
   },
   "outputs": [],
   "source": [
    "question = \"\"\"\n",
    "def func_x(array)\n",
    "  for i in range(len(array)):\n",
    "    print(array[i])\n",
    "\"\"\""
   ]
  },
  {
   "cell_type": "code",
   "execution_count": 8,
   "id": "c4944ff9-93c2-4a61-9ac0-54bff53d6ad4",
   "metadata": {
    "height": 149
   },
   "outputs": [
    {
     "name": "stdout",
     "output_type": "stream",
     "text": [
      "The provided code iterates through a list using its index.  While functional, it's not the most Pythonic approach. Python offers more elegant and efficient ways to iterate through lists.  Here's an improved version and a detailed explanation of the changes:\n",
      "\n",
      "```python\n",
      "def func_x(array):\n",
      "  for item in array:\n",
      "    print(item)\n",
      "```\n",
      "\n",
      "**Improvements and Explanation:**\n",
      "\n",
      "The original code uses `for i in range(len(array))`, which first calculates the length of the array and then iterates using the index `i` to access each element. This is less efficient and less readable than the improved version.\n",
      "\n",
      "The improved code uses a more direct and Pythonic approach: `for item in array:`. This is called **iterating directly over the iterable**.  It directly accesses each *item* in the `array` without needing to explicitly manage indices.\n",
      "\n",
      "**Benefits of the improved code:**\n",
      "\n",
      "* **Readability:** The improved code is significantly more concise and easier to understand. The intent – printing each item in the array – is immediately clear.\n",
      "\n",
      "* **Efficiency:** While the difference might be negligible for small arrays, directly iterating is generally slightly more efficient because it avoids the extra step of indexing.  The interpreter doesn't need to perform the calculation `array[i]` for each iteration.\n",
      "\n",
      "* **Pythonic Style:**  Direct iteration is the preferred and idiomatic way to traverse sequences in Python. It aligns with Python's philosophy of readability and ease of use.\n",
      "\n",
      "* **Flexibility:** This approach works seamlessly with other iterable objects like tuples, strings, and sets, not just lists.  The original code, relying on `len()` and indexing, would require adjustments for different iterable types.\n",
      "\n",
      "\n",
      "**Example Usage:**\n",
      "\n",
      "Both versions will produce the same output:\n",
      "\n",
      "```python\n",
      "my_array = [10, 20, 30, 40, 50]\n",
      "func_x(my_array)  # Output: 10 20 30 40 50\n",
      "```\n",
      "\n",
      "In summary, the improved code is better because it's more readable, slightly more efficient, and adheres to Python's best practices for iterating over sequences.  It's a small change but represents a significant improvement in code quality.\n",
      "\n"
     ]
    }
   ],
   "source": [
    "completion = generate_text(\n",
    "    prompt = prompt_template.format(question=question)\n",
    ")\n",
    "# Gemini API\n",
    "print(completion.text)\n",
    "\n",
    "# PaLM legacy\n",
    "## print(completion.result)"
   ]
  },
  {
   "cell_type": "markdown",
   "id": "b702c38c-a6ea-4eb2-978b-caf67e79c869",
   "metadata": {},
   "source": [
    "#### Ask for multiple ways of rewriting your code"
   ]
  },
  {
   "cell_type": "code",
   "execution_count": 9,
   "id": "2f3cfe0b-2ec5-452a-bee6-ceb14cbd3f0a",
   "metadata": {
    "height": 132
   },
   "outputs": [],
   "source": [
    "prompt_template = \"\"\"\n",
    "I don't think this code is the best way to do it in Python, can you help me?\n",
    "\n",
    "{question}\n",
    "\n",
    "Please explore multiple ways of solving the problem, and explain each.\n",
    "\"\"\""
   ]
  },
  {
   "cell_type": "code",
   "execution_count": 10,
   "id": "564b598a-ff33-48f0-b58a-e1a355897a56",
   "metadata": {
    "height": 81
   },
   "outputs": [
    {
     "name": "stdout",
     "output_type": "stream",
     "text": [
      "The provided code iterates through a list and prints each element.  While functional, it's not the most Pythonic approach. Here are several better ways, each with explanations:\n",
      "\n",
      "**Method 1: Direct Iteration (Most Pythonic)**\n",
      "\n",
      "```python\n",
      "def func_x(array):\n",
      "  for item in array:\n",
      "    print(item)\n",
      "```\n",
      "\n",
      "This is the preferred method in Python.  It directly iterates over the elements of the array (list) without needing to access them by index. This is cleaner, more readable, and generally faster because it avoids the overhead of indexing.\n",
      "\n",
      "**Method 2: List Comprehension with `print()` (Concise, but potentially less readable for beginners)**\n",
      "\n",
      "```python\n",
      "def func_x(array):\n",
      "  [print(item) for item in array]\n",
      "```\n",
      "\n",
      "This uses a list comprehension, a concise way to create lists.  Here, it's used to iterate and print, but the resulting list is immediately discarded. While compact, this might be less readable for those unfamiliar with list comprehensions.  It's generally less efficient than direct iteration for large lists because it creates a temporary list.\n",
      "\n",
      "**Method 3: Using `*` operator for unpacking (For printing to the console without loops)**\n",
      "\n",
      "```python\n",
      "def func_x(array):\n",
      "  print(*array, sep='\\n')\n",
      "```\n",
      "\n",
      "The `*` operator unpacks the list, passing each element as a separate argument to the `print()` function.  `sep='\\n'` ensures each element is printed on a new line. This is the most concise method for simply printing the list contents to the console.  It avoids explicit looping.\n",
      "\n",
      "**Method 4: Using `join()` for string output (If you need a single string)**\n",
      "\n",
      "If you need the output as a single string instead of printing line by line,  `join()` is efficient:\n",
      "\n",
      "```python\n",
      "def func_x(array):\n",
      "    string_output = '\\n'.join(map(str, array)) #map handles non-string elements\n",
      "    print(string_output)\n",
      "\n",
      "```\n",
      "This converts each element to a string (using `map(str, array)`) and joins them with newline characters.  This is particularly useful if you want to further process the output as a string.\n",
      "\n",
      "\n",
      "**Which method is best?**\n",
      "\n",
      "* For simply printing each element of a list to the console, **Method 1 (direct iteration)** or **Method 3 (unpacking with `*`)** are the best choices. Method 1 is generally preferred for readability, especially for beginners. Method 3 is more concise but might be less immediately understandable.\n",
      "\n",
      "* If you need the output as a single string, **Method 4** is the most efficient and appropriate.\n",
      "\n",
      "* Avoid **Method 2** unless you have a specific reason to use a list comprehension in this context, as it's less efficient and potentially less readable than direct iteration.\n",
      "\n",
      "\n",
      "Remember to choose the method that best suits your needs and coding style while prioritizing readability and efficiency.  For this specific task of simply printing list elements, Method 1 is generally the recommended approach.\n",
      "\n"
     ]
    }
   ],
   "source": [
    "completion = generate_text(\n",
    "    prompt = prompt_template.format(question=question)\n",
    ")\n",
    "print(completion.text)"
   ]
  },
  {
   "cell_type": "markdown",
   "id": "6eee86fb-5c10-4e49-a830-7fbe56de241a",
   "metadata": {},
   "source": [
    "#### Paste markdown into a markdown cell\n",
    "\n",
    "If the model outputs what looks like a table in markdown, you can copy-paste markdown into a markdown cell to make it easier to view:\n",
    "\n",
    "For example:\n",
    "\n",
    "| Method | Pros | Cons |\n",
    "|---|---|---|\n",
    "| List comprehension | Concise | Can be difficult to read for complex code |\n",
    "| `enumerate()` | Easy to read | Requires an extra variable to store the index |\n",
    "| `map()` | Flexible | Requires a custom function to format the output |\n"
   ]
  },
  {
   "cell_type": "markdown",
   "id": "df910404-db59-4b9e-9477-408ccec9b7fc",
   "metadata": {},
   "source": [
    "#### Ask the model to recommend one of the methods as most 'Pythonic'"
   ]
  },
  {
   "cell_type": "code",
   "execution_count": 11,
   "id": "b776a8cb-80c4-4e20-89dc-7bff2a350b9a",
   "metadata": {
    "height": 149
   },
   "outputs": [],
   "source": [
    "prompt_template = \"\"\"\n",
    "I don't think this code is the best way to do it in Python, can you help me?\n",
    "\n",
    "{question}\n",
    "\n",
    "Please explore multiple ways of solving the problem, \n",
    "and tell me which is the most Pythonic\n",
    "\"\"\""
   ]
  },
  {
   "cell_type": "code",
   "execution_count": 12,
   "id": "89521d8c-41c8-45fd-9ec3-5eea54c642a4",
   "metadata": {
    "height": 81
   },
   "outputs": [
    {
     "name": "stdout",
     "output_type": "stream",
     "text": [
      "The provided code iterates through a list and prints each element.  While functional, it's not the most Pythonic approach. Here are several better ways, with explanations of their Pythonic qualities:\n",
      "\n",
      "**Method 1: Direct Iteration (Most Pythonic)**\n",
      "\n",
      "```python\n",
      "def func_x(array):\n",
      "  for item in array:\n",
      "    print(item)\n",
      "```\n",
      "\n",
      "This is the most Pythonic because it directly iterates over the *elements* of the array, rather than iterating over indices and then accessing elements by index.  It's cleaner, more readable, and avoids potential `IndexError` exceptions if you accidentally use an invalid index.\n",
      "\n",
      "**Method 2: List Comprehension with `print()` (Less Pythonic for this specific task)**\n",
      "\n",
      "```python\n",
      "def func_x(array):\n",
      "  [print(item) for item in array]\n",
      "```\n",
      "\n",
      "List comprehensions are powerful for creating new lists, but using one solely for side effects (printing) is generally considered less readable than a simple `for` loop in this case.  While it works, it's not the preferred style for this specific problem.\n",
      "\n",
      "**Method 3: Using `*` unpacking operator (Good for printing, but not the primary purpose)**\n",
      "\n",
      "```python\n",
      "def func_x(array):\n",
      "    print(*array, sep='\\n')\n",
      "```\n",
      "\n",
      "The `*` operator unpacks the list elements, allowing `print()` to handle them individually.  The `sep='\\n'` ensures each element is printed on a new line. This is concise but might be less clear to someone unfamiliar with unpacking.  It's suitable if the primary goal is printing, but less so if the function might be extended to do other things with the array elements.\n",
      "\n",
      "**Method 4: Using `join()` (For strings only)**\n",
      "\n",
      "```python\n",
      "def func_x(array):\n",
      "    print('\\n'.join(map(str, array)))\n",
      "```\n",
      "\n",
      "This method is efficient for printing strings.  `map(str, array)` converts each element to a string (necessary for `join()`), and `join()` concatenates them with newline characters.  However, it will fail if the array contains non-string elements.\n",
      "\n",
      "**Which is best?**\n",
      "\n",
      "For simply printing each element of a list, **Method 1 (direct iteration)** is the most Pythonic. It's clear, concise, and directly reflects the intent of the code.  The other methods have their uses in different contexts, but for this specific task, the simple `for` loop is the best choice.\n",
      "\n"
     ]
    }
   ],
   "source": [
    "completion = generate_text(\n",
    "    prompt = prompt_template.format(question=question)\n",
    ")\n",
    "print(completion.text)"
   ]
  },
  {
   "cell_type": "markdown",
   "id": "47315eff-85d3-45aa-bf14-a6f8ee1a43b9",
   "metadata": {},
   "source": [
    "### Scenario 2: Simplify code\n",
    "- Ask the LLM to perform a code review.\n",
    "- Note that adding/removing newline characters may affect the LLM completion that gets output by the LLM."
   ]
  },
  {
   "cell_type": "code",
   "execution_count": 13,
   "id": "ef1b24b6-c20c-4e3b-9f80-1a6dea18fa24",
   "metadata": {
    "height": 149
   },
   "outputs": [],
   "source": [
    "# option 1\n",
    "prompt_template = \"\"\"\n",
    "Can you please simplify this code for a linked list in Python?\n",
    "\n",
    "{question}\n",
    "\n",
    "Explain in detail what you did to modify it, and why.\n",
    "\"\"\""
   ]
  },
  {
   "cell_type": "markdown",
   "id": "f1c075dc-2f21-4ab5-99ed-798c08d20bad",
   "metadata": {},
   "source": [
    "After you try option 1, you can modify it to look like option 2 (in this markdown cell) and see how it changes the completion.\n",
    "```Python\n",
    "# option 2\n",
    "prompt_template = \"\"\"\n",
    "Can you please simplify this code for a linked list in Python? \\n\n",
    "You are an expert in Pythonic code.\n",
    "\n",
    "{question}\n",
    "\n",
    "Please comment each line in detail, \\n\n",
    "and explain in detail what you did to modify it, and why.\n",
    "\"\"\"\n",
    "```"
   ]
  },
  {
   "cell_type": "code",
   "execution_count": 14,
   "id": "4663db7e-3b40-4776-9dc9-87fea5975ff1",
   "metadata": {
    "height": 319
   },
   "outputs": [],
   "source": [
    "question = \"\"\"\n",
    "class Node:\n",
    "  def __init__(self, dataval=None):\n",
    "    self.dataval = dataval\n",
    "    self.nextval = None\n",
    "\n",
    "class SLinkedList:\n",
    "  def __init__(self):\n",
    "    self.headval = None\n",
    "\n",
    "list1 = SLinkedList()\n",
    "list1.headval = Node(\"Mon\")\n",
    "e2 = Node(\"Tue\")\n",
    "e3 = Node(\"Wed\")\n",
    "list1.headval.nextval = e2\n",
    "e2.nextval = e3\n",
    "\n",
    "\"\"\""
   ]
  },
  {
   "cell_type": "code",
   "execution_count": 15,
   "id": "f954dcaf-3dfe-4265-b644-1bcbeead405b",
   "metadata": {
    "height": 81
   },
   "outputs": [
    {
     "name": "stdout",
     "output_type": "stream",
     "text": [
      "The provided code is already fairly concise, but we can make it slightly more streamlined and Pythonic.  The main improvements focus on reducing redundancy and making the code easier to read and extend.\n",
      "\n",
      "Here's a simplified version:\n",
      "\n",
      "```python\n",
      "class Node:\n",
      "    def __init__(self, data):  # Simplified variable name\n",
      "        self.data = data       # Simplified variable name\n",
      "        self.next = None       # More concise naming\n",
      "\n",
      "class LinkedList:  # More descriptive class name\n",
      "    def __init__(self):\n",
      "        self.head = None       # More concise naming\n",
      "\n",
      "    def append(self, data):  # Added an append method for easier list creation\n",
      "        new_node = Node(data)\n",
      "        if not self.head:\n",
      "            self.head = new_node\n",
      "            return\n",
      "        current = self.head\n",
      "        while current.next:\n",
      "            current = current.next\n",
      "        current.next = new_node\n",
      "\n",
      "# Example usage:\n",
      "list1 = LinkedList()\n",
      "list1.append(\"Mon\")\n",
      "list1.append(\"Tue\")\n",
      "list1.append(\"Wed\")\n",
      "\n",
      "\n",
      "#To print the list (added for demonstration)\n",
      "current = list1.head\n",
      "while current:\n",
      "    print(current.data)\n",
      "    current = current.next\n",
      "\n",
      "```\n",
      "\n",
      "Here's a breakdown of the changes and why they were made:\n",
      "\n",
      "1. **Simplified Variable Names:**  `dataval` and `nextval` were changed to `data` and `next`, respectively.  Shorter names improve readability without losing clarity.\n",
      "\n",
      "2. **More Descriptive Class Name:** `SLinkedList` (presumably for \"Singly Linked List\") was changed to `LinkedList`.  This is more concise and generally understood.\n",
      "\n",
      "3. **Added `append` Method:** The original code manually added nodes.  The `append` method makes adding nodes much cleaner and more efficient.  This is a standard operation for linked lists and improves code organization.  It also avoids the need to explicitly create and link nodes individually.\n",
      "\n",
      "4. **Improved `append` Logic:** The `append` method efficiently handles both the case of an empty list and adding to the end of a non-empty list.\n",
      "\n",
      "5. **Concise `if not self.head`:** This is a more Pythonic way to check for an empty list compared to `if self.head == None`.\n",
      "\n",
      "6. **Added list printing:** The original code lacked a way to easily view the contents of the linked list.  The added `while` loop at the end demonstrates how to traverse and print the list's data.\n",
      "\n",
      "\n",
      "The simplified version is functionally equivalent to the original but is more readable, maintainable, and extensible.  The addition of the `append` method significantly improves the usability of the linked list class.  It's now much easier to build and manipulate the list.\n",
      "\n"
     ]
    }
   ],
   "source": [
    "completion = generate_text(\n",
    "    prompt = prompt_template.format(question=question)\n",
    ")\n",
    "print(completion.text)"
   ]
  },
  {
   "cell_type": "markdown",
   "id": "2842f412-36f7-461f-a07f-eb95b345174d",
   "metadata": {},
   "source": [
    "### Scenario 3: Write test cases\n",
    "\n",
    "- It may help to specify that you want the LLM to output \"in code\" to encourage it to write unit tests instead of just returning test cases in English."
   ]
  },
  {
   "cell_type": "code",
   "execution_count": 16,
   "id": "cf4c29c6-fe80-4aed-9e86-2daa6d862101",
   "metadata": {
    "height": 132
   },
   "outputs": [],
   "source": [
    "prompt_template = \"\"\"\n",
    "Can you please create test cases in code for this Python code?\n",
    "\n",
    "{question}\n",
    "\n",
    "Explain in detail what these test cases are designed to achieve.\n",
    "\"\"\""
   ]
  },
  {
   "cell_type": "code",
   "execution_count": 17,
   "id": "3259b810-52b4-446b-971b-136df45d0f97",
   "metadata": {
    "height": 387
   },
   "outputs": [],
   "source": [
    "# Note that the code I'm using here was output in the previous\n",
    "# section. Your output code may be different.\n",
    "question = \"\"\"\n",
    "class Node:\n",
    "  def __init__(self, dataval=None):\n",
    "    self.dataval = dataval\n",
    "    self.nextval = None\n",
    "\n",
    "class SLinkedList:\n",
    "  def __init__(self):\n",
    "    self.head = None\n",
    "\n",
    "def create_linked_list(data):\n",
    "  head = Node(data[0])\n",
    "  for i in range(1, len(data)):\n",
    "    node = Node(data[i])\n",
    "    node.nextval = head\n",
    "    head = node\n",
    "  return head\n",
    "\n",
    "list1 = create_linked_list([\"Mon\", \"Tue\", \"Wed\"])\n",
    "\"\"\""
   ]
  },
  {
   "cell_type": "code",
   "execution_count": 18,
   "id": "ab46dc7e-393a-4ec3-a443-39b39437dd05",
   "metadata": {
    "height": 81
   },
   "outputs": [
    {
     "name": "stdout",
     "output_type": "stream",
     "text": [
      "The provided code creates a singly linked list.  The `create_linked_list` function takes a list of data and returns the head of a newly created linked list where the elements are added to the *front* (resulting in a reversed order).  We need test cases to verify its functionality under various conditions.\n",
      "\n",
      "Here's Python code with test cases using the `unittest` module:\n",
      "\n",
      "```python\n",
      "import unittest\n",
      "\n",
      "class Node:\n",
      "  def __init__(self, dataval=None):\n",
      "    self.dataval = dataval\n",
      "    self.nextval = None\n",
      "\n",
      "class SLinkedList:\n",
      "  def __init__(self):\n",
      "    self.head = None\n",
      "\n",
      "def create_linked_list(data):\n",
      "  head = Node(data[0]) if data else None #Handle empty list case\n",
      "  for i in range(1, len(data)):\n",
      "    node = Node(data[i])\n",
      "    node.nextval = head\n",
      "    head = node\n",
      "  return head\n",
      "\n",
      "class TestCreateLinkedList(unittest.TestCase):\n",
      "\n",
      "    def test_empty_list(self):\n",
      "        head = create_linked_list([])\n",
      "        self.assertIsNone(head, \"Should return None for an empty list\")\n",
      "\n",
      "    def test_single_element_list(self):\n",
      "        head = create_linked_list([\"Mon\"])\n",
      "        self.assertEqual(head.dataval, \"Mon\")\n",
      "        self.assertIsNone(head.nextval, \"Next should be None for single element\")\n",
      "\n",
      "    def test_multiple_elements_list(self):\n",
      "        head = create_linked_list([\"Mon\", \"Tue\", \"Wed\"])\n",
      "        self.assertEqual(head.dataval, \"Wed\") #Check head\n",
      "        self.assertEqual(head.nextval.dataval, \"Tue\") #Check second element\n",
      "        self.assertEqual(head.nextval.nextval.dataval, \"Mon\") #Check third element\n",
      "        self.assertIsNone(head.nextval.nextval.nextval, \"End of list should be None\")\n",
      "\n",
      "    def test_list_with_numbers(self):\n",
      "        head = create_linked_list([1, 2, 3])\n",
      "        self.assertEqual(head.dataval, 3)\n",
      "        self.assertEqual(head.nextval.dataval, 2)\n",
      "        self.assertEqual(head.nextval.nextval.dataval, 1)\n",
      "        self.assertIsNone(head.nextval.nextval.nextval)\n",
      "\n",
      "    def test_list_with_mixed_data(self):\n",
      "        head = create_linked_list([1, \"a\", 3.14])\n",
      "        self.assertEqual(head.dataval, 3.14)\n",
      "        self.assertEqual(head.nextval.dataval, \"a\")\n",
      "        self.assertEqual(head.nextval.nextval.dataval, 1)\n",
      "        self.assertIsNone(head.nextval.nextval.nextval)\n",
      "\n",
      "\n",
      "if __name__ == '__main__':\n",
      "    unittest.main()\n",
      "```\n",
      "\n",
      "**Explanation of Test Cases:**\n",
      "\n",
      "1. **`test_empty_list`:** This checks the function's behavior when an empty list is provided as input.  It expects the function to return `None` because there are no nodes to create.\n",
      "\n",
      "2. **`test_single_element_list`:** This tests the case with a list containing only one element. It verifies that the head node's data is correct and that the `nextval` pointer is `None` (as it's the end of the list).\n",
      "\n",
      "3. **`test_multiple_elements_list`:** This is a crucial test case that checks the list creation with multiple elements. It verifies the data in the head node and subsequent nodes, ensuring they are in the reversed order (because of the prepending in the function).  It also checks that the last node's `nextval` is `None`.\n",
      "\n",
      "4. **`test_list_with_numbers`:** This test case uses a list of numbers to ensure the function works correctly with different data types.\n",
      "\n",
      "5. **`test_list_with_mixed_data`:** This test case uses a list with mixed data types (integer, string, float) to further demonstrate the function's versatility and robustness.\n",
      "\n",
      "\n",
      "These test cases provide comprehensive coverage of the `create_linked_list` function, checking for edge cases (empty list, single element list) and general cases (multiple elements, different data types).  Running this code with `unittest` will execute these tests and report whether they pass or fail.  This helps ensure the correctness and reliability of the linked list creation function.\n",
      "\n"
     ]
    }
   ],
   "source": [
    "completion = generate_text(\n",
    "    prompt = prompt_template.format(question=question)\n",
    ")\n",
    "print(completion.text)"
   ]
  },
  {
   "cell_type": "markdown",
   "id": "5b4e34dd-167c-4ce5-b0a6-20b1cf78f53c",
   "metadata": {},
   "source": [
    "### Scenario 4: Make code more efficient\n",
    "- Improve runtime by potentially avoiding inefficient methods (such as ones that use recursion when not needed)."
   ]
  },
  {
   "cell_type": "code",
   "execution_count": 19,
   "id": "da4197f9-c6de-490d-a05e-6b604e0c0c40",
   "metadata": {
    "height": 132
   },
   "outputs": [],
   "source": [
    "prompt_template = \"\"\"\n",
    "Can you please make this code more efficient?\n",
    "\n",
    "{question}\n",
    "\n",
    "Explain in detail what you changed and why.\n",
    "\"\"\""
   ]
  },
  {
   "cell_type": "code",
   "execution_count": 20,
   "id": "f653f4e0-c847-4639-8702-a9b16b161c24",
   "metadata": {
    "height": 489
   },
   "outputs": [],
   "source": [
    "question = \"\"\"\n",
    "# Returns index of x in arr if present, else -1\n",
    "def binary_search(arr, low, high, x):\n",
    "    # Check base case\n",
    "    if high >= low:\n",
    "        mid = (high + low) // 2\n",
    "        if arr[mid] == x:\n",
    "            return mid\n",
    "        elif arr[mid] > x:\n",
    "            return binary_search(arr, low, mid - 1, x)\n",
    "        else:\n",
    "            return binary_search(arr, mid + 1, high, x)\n",
    "    else:\n",
    "        return -1\n",
    "\n",
    "# Test array\n",
    "arr = [ 2, 3, 4, 10, 40 ]\n",
    "x = 10\n",
    "\n",
    "# Function call\n",
    "result = binary_search(arr, 0, len(arr)-1, x)\n",
    "\n",
    "if result != -1:\n",
    "    print(\"Element is present at index\", str(result))\n",
    "else:\n",
    "    print(\"Element is not present in array\")\n",
    "\n",
    "\"\"\""
   ]
  },
  {
   "cell_type": "code",
   "execution_count": 21,
   "id": "c0150e46-ca82-420d-82ec-54eca96bd3d2",
   "metadata": {
    "height": 81
   },
   "outputs": [
    {
     "name": "stdout",
     "output_type": "stream",
     "text": [
      "The provided code implements a recursive binary search. While functional, recursion can be less efficient than an iterative approach due to function call overhead.  Here's an improved, iterative version:\n",
      "\n",
      "```python\n",
      "def binary_search_iterative(arr, x):\n",
      "    low = 0\n",
      "    high = len(arr) - 1\n",
      "    mid = 0\n",
      "\n",
      "    while low <= high:\n",
      "        mid = (high + low) // 2  # Integer division\n",
      "\n",
      "        # If x is greater, ignore left half\n",
      "        if arr[mid] < x:\n",
      "            low = mid + 1\n",
      "\n",
      "        # If x is smaller, ignore right half\n",
      "        elif arr[mid] > x:\n",
      "            high = mid - 1\n",
      "\n",
      "        # means x is present at mid\n",
      "        else:\n",
      "            return mid\n",
      "\n",
      "    # If we reach here, then the element was not present\n",
      "    return -1\n",
      "\n",
      "# Test array\n",
      "arr = [2, 3, 4, 10, 40]\n",
      "x = 10\n",
      "\n",
      "# Function call\n",
      "result = binary_search_iterative(arr, x)\n",
      "\n",
      "if result != -1:\n",
      "    print(\"Element is present at index\", str(result))\n",
      "else:\n",
      "    print(\"Element is not present in array\")\n",
      "```\n",
      "\n",
      "**Changes and Explanations:**\n",
      "\n",
      "1. **Iterative Approach:** The most significant change is replacing the recursive calls with a `while` loop. This eliminates the overhead of repeatedly creating new stack frames for each recursive call.  For large arrays, this can lead to substantial performance improvements.\n",
      "\n",
      "2. **Removed Redundant Arguments:** The original recursive function passed `low` and `high` as arguments in each recursive call. The iterative version maintains these variables directly within the loop, simplifying the code and reducing function call overhead.\n",
      "\n",
      "3. **Clarity and Readability:** The iterative version is arguably more readable and easier to understand the flow of the algorithm.  The logic is more directly expressed.\n",
      "\n",
      "4. **No Change in Algorithm:** The core binary search algorithm remains unchanged.  The iterative version still efficiently halves the search space in each iteration.\n",
      "\n",
      "**Why Iteration is More Efficient:**\n",
      "\n",
      "* **Stack Overflow:** Recursive functions use the call stack.  For extremely large arrays, a deeply nested recursive call could lead to a stack overflow error.  Iterative approaches avoid this problem.\n",
      "\n",
      "* **Function Call Overhead:** Each function call has a cost associated with it (setting up the stack frame, passing arguments, returning values).  Iteration avoids this repeated overhead.\n",
      "\n",
      "* **Tail Recursion (Not Applicable Here):** Some languages optimize tail-recursive functions (where the recursive call is the very last operation).  Python does *not* perform tail call optimization, so the recursive version doesn't benefit from this potential optimization.\n",
      "\n",
      "\n",
      "In summary, the iterative version of binary search is generally preferred for its efficiency and avoidance of potential stack overflow issues, especially when dealing with large datasets.  The performance difference might be negligible for small arrays, but it becomes increasingly significant as the array size grows.\n",
      "\n"
     ]
    }
   ],
   "source": [
    "completion = generate_text(\n",
    "    prompt = prompt_template.format(question=question)\n",
    ")\n",
    "print(completion.text)"
   ]
  },
  {
   "cell_type": "markdown",
   "id": "44a24541-c37b-48a0-bc71-a8323f0b9e2d",
   "metadata": {},
   "source": [
    "#### Try out the LLM-generated code\n",
    "- If it uses `bisect`, you may first need to `import bisect`\n",
    "- Remember to check what the generated code is actually doing.  For instance, the code may work because it is calling a predefined function (such as `bisect`), even though the rest of the code is technically broken."
   ]
  },
  {
   "cell_type": "code",
   "execution_count": null,
   "id": "ecde2b81-6e00-4977-b888-39e2f65a8d79",
   "metadata": {
    "height": 149
   },
   "outputs": [],
   "source": [
    "# Paste the LLM-generated code to inspect and debug it\n",
    "\n",
    "\n",
    "\n",
    "\n",
    "\n",
    "\n"
   ]
  },
  {
   "cell_type": "markdown",
   "id": "7326a0cc-338b-4c83-9b57-3a84094f800a",
   "metadata": {},
   "source": [
    "### Scenario 5: Debug your code"
   ]
  },
  {
   "cell_type": "code",
   "execution_count": 22,
   "id": "a10179f2-e09e-4c72-9991-a6f5d8418fc4",
   "metadata": {
    "height": 132
   },
   "outputs": [],
   "source": [
    "prompt_template = \"\"\"\n",
    "Can you please help me to debug this code?\n",
    "\n",
    "{question}\n",
    "\n",
    "Explain in detail what you found and why it was a bug.\n",
    "\"\"\""
   ]
  },
  {
   "cell_type": "code",
   "execution_count": 23,
   "id": "ed8384ba-3641-407e-add6-52efa2a43b48",
   "metadata": {
    "height": 625
   },
   "outputs": [],
   "source": [
    "# I deliberately introduced a bug into this code! Let's see if the LLM can find it.\n",
    "# Note -- the model can't see this comment -- but the bug is in the\n",
    "# print function. There's a circumstance where nodes can be null, and trying\n",
    "# to print them would give a null error.\n",
    "question = \"\"\"\n",
    "class Node:\n",
    "   def __init__(self, data):\n",
    "      self.data = data\n",
    "      self.next = None\n",
    "      self.prev = None\n",
    "\n",
    "class doubly_linked_list:\n",
    "   def __init__(self):\n",
    "      self.head = None\n",
    "\n",
    "# Adding data elements\n",
    "   def push(self, NewVal):\n",
    "      NewNode = Node(NewVal)\n",
    "      NewNode.next = self.head\n",
    "      if self.head is not None:\n",
    "         self.head.prev = NewNode\n",
    "      self.head = NewNode\n",
    "\n",
    "# Print the Doubly Linked list in order\n",
    "   def listprint(self, node):\n",
    "       print(node.data),\n",
    "       last = node\n",
    "       node = node.next\n",
    "\n",
    "dllist = doubly_linked_list()\n",
    "dllist.push(12)\n",
    "dllist.push(8)\n",
    "dllist.push(62)\n",
    "dllist.listprint(dllist.head)\n",
    "\n",
    "\"\"\""
   ]
  },
  {
   "cell_type": "markdown",
   "id": "2e4874fd-722a-4b3d-8ca1-fab36c5e84f4",
   "metadata": {},
   "source": [
    "Notice in this case that we are using the default temperature of `0.7` to generate the example that you're seeing in the lecture video.  \n",
    "- Since a temperature > 0 encourages more randomness in the LLM output, you may want to run this code a couple times to see what it outputs."
   ]
  },
  {
   "cell_type": "code",
   "execution_count": 24,
   "id": "360527f9-495e-41f4-a280-579f3643a36b",
   "metadata": {
    "height": 98
   },
   "outputs": [
    {
     "name": "stdout",
     "output_type": "stream",
     "text": [
      "The bug lies in the `listprint` function.  It correctly prints the data of the first node, but then it has a logic error that prevents it from traversing the rest of the list.\n",
      "\n",
      "**The Problem:**\n",
      "\n",
      "The line `node = node.next` correctly moves to the next node. However, there's no loop or recursive call to continue traversing the list.  The function only prints the data of the *first* node and then stops.  It should iterate through all nodes until it reaches the end of the list (where `node` becomes `None`).\n",
      "\n",
      "\n",
      "**The Solution:**\n",
      "\n",
      "We need to add a `while` loop to iterate through the list until the end is reached. We also need to handle the case where the list is empty.\n",
      "\n",
      "\n",
      "Here's the corrected code:\n",
      "\n",
      "```python\n",
      "class Node:\n",
      "   def __init__(self, data):\n",
      "      self.data = data\n",
      "      self.next = None\n",
      "      self.prev = None\n",
      "\n",
      "class doubly_linked_list:\n",
      "   def __init__(self):\n",
      "      self.head = None\n",
      "\n",
      "# Adding data elements\n",
      "   def push(self, NewVal):\n",
      "      NewNode = Node(NewVal)\n",
      "      NewNode.next = self.head\n",
      "      if self.head is not None:\n",
      "         self.head.prev = NewNode\n",
      "      self.head = NewNode\n",
      "\n",
      "# Print the Doubly Linked list in order\n",
      "   def listprint(self, node):\n",
      "       if node is None:  #Handle empty list case\n",
      "           print(\"List is empty\")\n",
      "           return\n",
      "       while node is not None:\n",
      "           print(node.data, end=\" \") #Added end=\" \" for better formatting\n",
      "           node = node.next\n",
      "\n",
      "dllist = doubly_linked_list()\n",
      "dllist.push(12)\n",
      "dllist.push(8)\n",
      "dllist.push(62)\n",
      "dllist.listprint(dllist.head)\n",
      "```\n",
      "\n",
      "**Explanation of Changes:**\n",
      "\n",
      "1. **Empty List Check:** The `if node is None` check at the beginning of `listprint` handles the case where the list is empty, preventing an error.\n",
      "\n",
      "2. **`while` loop:** A `while node is not None:` loop iterates through the list.  It continues as long as the current `node` is not `None` (meaning we haven't reached the end).\n",
      "\n",
      "3. **`end=\" \"`:**  The `print` function now uses `end=\" \"` to print each node's data separated by a space, making the output more readable.  The original code printed each number on a new line.\n",
      "\n",
      "With these changes, the `listprint` function correctly traverses and prints all the nodes in the doubly linked list.  The output will now be: `62 8 12` (because we added elements in reverse order using `push`).\n",
      "\n"
     ]
    }
   ],
   "source": [
    "completion = generate_text(\n",
    "    prompt = prompt_template.format(question=question),\n",
    "    temperature = 0.7\n",
    ")\n",
    "print(completion.text)"
   ]
  },
  {
   "cell_type": "markdown",
   "id": "82c9d0dc-c216-4ea5-8ccd-1f06094b9fad",
   "metadata": {},
   "source": [
    "#### Reminder to check the code\n",
    "You can use an  LLM to give you insights and check for blind spots, but remember to check that the generated code is doing what you want it to do."
   ]
  },
  {
   "cell_type": "code",
   "execution_count": null,
   "id": "80634c53-72b8-43ee-8ac0-369fce8c0318",
   "metadata": {
    "height": 30
   },
   "outputs": [],
   "source": []
  }
 ],
 "metadata": {
  "kernelspec": {
   "display_name": "Python 3 (ipykernel)",
   "language": "python",
   "name": "python3"
  },
  "language_info": {
   "codemirror_mode": {
    "name": "ipython",
    "version": 3
   },
   "file_extension": ".py",
   "mimetype": "text/x-python",
   "name": "python",
   "nbconvert_exporter": "python",
   "pygments_lexer": "ipython3",
   "version": "3.10.14"
  }
 },
 "nbformat": 4,
 "nbformat_minor": 5
}

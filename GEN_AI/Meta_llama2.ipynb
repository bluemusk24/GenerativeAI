{
 "cells": [
  {
   "cell_type": "code",
   "execution_count": 3,
   "metadata": {
    "colab": {
     "base_uri": "https://localhost:8080/"
    },
    "id": "AMBRR93dGv6a",
    "outputId": "23c559d4-fead-44a6-957a-87e67f9e79b5"
   },
   "outputs": [
    {
     "name": "stdout",
     "output_type": "stream",
     "text": [
      "/bin/bash: line 1: nvidia-smi: command not found\n"
     ]
    }
   ],
   "source": [
    "# check for GPU\n",
    "!nvidia-smi"
   ]
  },
  {
   "cell_type": "markdown",
   "metadata": {
    "id": "lUvqZ0EKHv2I"
   },
   "source": [
    "# install libraries"
   ]
  },
  {
   "cell_type": "code",
   "execution_count": 1,
   "metadata": {
    "id": "mtjGlRSoG-Nd"
   },
   "outputs": [],
   "source": [
    "#!pip install huggingface_hub\n",
    "#!pip install llama-cpp-python==0.1.78\n",
    "#!pip install numpy==1.23.4"
   ]
  },
  {
   "cell_type": "markdown",
   "metadata": {
    "id": "u6KMPKD2IZpV"
   },
   "source": [
    "# Download the model"
   ]
  },
  {
   "cell_type": "code",
   "execution_count": 2,
   "metadata": {
    "id": "d2HQqdttIYRs"
   },
   "outputs": [],
   "source": [
    "# copy model from hugging face\n",
    "model_name ='TheBloke/Llama-2-13B-chat-GGML'\n",
    "model_basename = 'llama-2-13b-chat.ggmlv3.q5_1.bin'        # model in bin format when you scroll down the model o hugging face"
   ]
  },
  {
   "cell_type": "code",
   "execution_count": 3,
   "metadata": {
    "id": "R9DuNzxeIqeI"
   },
   "outputs": [],
   "source": [
    "# import huggingface_hub and llama cpp\n",
    "from huggingface_hub import hf_hub_download\n",
    "from llama_cpp import Llama"
   ]
  },
  {
   "cell_type": "code",
   "execution_count": 4,
   "metadata": {
    "colab": {
     "base_uri": "https://localhost:8080/",
     "height": 178,
     "referenced_widgets": [
      "737df4dbcaa74771a1616818322aa7c9",
      "17aa16f3b2504633af3db25a3a3d9740",
      "6f1f753b32794c178a5f5812226a6f56",
      "43e9d75e93eb45dd98eaef898bfaf3ff",
      "e37a8887e90641db960b264acd342ff0",
      "d4c24f2ccd8a4704b906e9366a909980",
      "b075d88baec74d09b09438433cda0659",
      "9cb38122f60341db9ee095054046cce1",
      "efb2af7e5da743b6b4e4793e8e4fd7a1",
      "f0abce591666436099d1f4b045aa69e9",
      "230b1214d1af491ca9afc6d2fd9a6088"
     ]
    },
    "id": "yqX3u9pEItev",
    "outputId": "4ad8e1c3-ec60-46e0-edcb-97d0ef929731"
   },
   "outputs": [
    {
     "name": "stderr",
     "output_type": "stream",
     "text": [
      "/usr/local/lib/python3.10/dist-packages/huggingface_hub/utils/_token.py:89: UserWarning: \n",
      "The secret `HF_TOKEN` does not exist in your Colab secrets.\n",
      "To authenticate with the Hugging Face Hub, create a token in your settings tab (https://huggingface.co/settings/tokens), set it as secret in your Google Colab and restart your session.\n",
      "You will be able to reuse this secret in all of your notebooks.\n",
      "Please note that authentication is recommended but still optional to access public models or datasets.\n",
      "  warnings.warn(\n"
     ]
    },
    {
     "data": {
      "application/vnd.jupyter.widget-view+json": {
       "model_id": "737df4dbcaa74771a1616818322aa7c9",
       "version_major": 2,
       "version_minor": 0
      },
      "text/plain": [
       "llama-2-13b-chat.ggmlv3.q5_1.bin:   0%|          | 0.00/9.76G [00:00<?, ?B/s]"
      ]
     },
     "metadata": {},
     "output_type": "display_data"
    }
   ],
   "source": [
    "# download the model\n",
    "model_path = hf_hub_download(repo_id=model_name, filename=model_basename)"
   ]
  },
  {
   "cell_type": "code",
   "execution_count": 5,
   "metadata": {
    "colab": {
     "base_uri": "https://localhost:8080/",
     "height": 36
    },
    "id": "ZXXIk2x1IzAd",
    "outputId": "addf33f8-ba40-44a1-f7cd-5c1cf3b01c31"
   },
   "outputs": [
    {
     "data": {
      "application/vnd.google.colaboratory.intrinsic+json": {
       "type": "string"
      },
      "text/plain": [
       "'/root/.cache/huggingface/hub/models--TheBloke--Llama-2-13B-chat-GGML/snapshots/3140827b4dfcb6b562cd87ee3d7f07109b014dd0/llama-2-13b-chat.ggmlv3.q5_1.bin'"
      ]
     },
     "execution_count": 5,
     "metadata": {},
     "output_type": "execute_result"
    }
   ],
   "source": [
    "# check the model path where it downloaded locally\n",
    "model_path"
   ]
  },
  {
   "cell_type": "markdown",
   "metadata": {
    "id": "doBufgL6I7VB"
   },
   "source": [
    "# Load the Model"
   ]
  },
  {
   "cell_type": "code",
   "execution_count": 6,
   "metadata": {
    "colab": {
     "base_uri": "https://localhost:8080/"
    },
    "id": "51uwIkd9Jh4j",
    "outputId": "5c94c3d2-7d7c-4d80-c296-13fbe083bc97"
   },
   "outputs": [
    {
     "name": "stderr",
     "output_type": "stream",
     "text": [
      "AVX = 1 | AVX2 = 1 | AVX512 = 0 | AVX512_VBMI = 0 | AVX512_VNNI = 0 | FMA = 1 | NEON = 0 | ARM_FMA = 0 | F16C = 1 | FP16_VA = 0 | WASM_SIMD = 0 | BLAS = 0 | SSE3 = 1 | VSX = 0 | \n"
     ]
    }
   ],
   "source": [
    "# load the model with some paramters\n",
    "lccp_llm = None\n",
    "lccp_llm = Llama(\n",
    "    model_path=model_path,\n",
    "    n_threads=2,               # cpu cores\n",
    "    n_batch=512,               # number of memory\n",
    "    n_gpu_layers=32            # value of GPU if you have gpu\n",
    ")"
   ]
  },
  {
   "cell_type": "code",
   "execution_count": 8,
   "metadata": {
    "colab": {
     "base_uri": "https://localhost:8080/"
    },
    "id": "opKk-dlIKQxz",
    "outputId": "519c2c8a-be56-449c-954f-183da9520b32"
   },
   "outputs": [
    {
     "data": {
      "text/plain": [
       "32"
      ]
     },
     "execution_count": 8,
     "metadata": {},
     "output_type": "execute_result"
    }
   ],
   "source": [
    "# GPU layers\n",
    "lccp_llm.params.n_gpu_layers"
   ]
  },
  {
   "cell_type": "markdown",
   "metadata": {
    "id": "w_YxKS-2J5ei"
   },
   "source": [
    "# Prompt Template"
   ]
  },
  {
   "cell_type": "markdown",
   "metadata": {},
   "source": [
    "##### Prompt_Template Format: You are a helpful, respectful and honest assistant. Always answer as helpfully as possible, while being safe.  Your answers should not include any\n",
    "\n",
    "##### harmful, unethical, racist, sexist, toxic, dangerous, or illegal content. Please ensure that your responses are socially unbiased and positive in nature. If a question does not make \n",
    "\n",
    "##### any sense, or is not factually coherent, explain why instead of answering something not correct. If you don't know the answer to a question, please don't share false information."
   ]
  },
  {
   "cell_type": "code",
   "execution_count": 7,
   "metadata": {
    "id": "epcI8c1fJzs7"
   },
   "outputs": [],
   "source": [
    "# create a custom prompt template\n",
    "prompt = 'Write a linear regression code'\n",
    "prompt_template = f'''SYSTEM: You are a helpful, respectful and honest assistant. Always anser as helpfully.\n",
    "\n",
    "USER: {prompt}\n",
    "\n",
    "ASSISTANT:\n",
    "'''"
   ]
  },
  {
   "cell_type": "markdown",
   "metadata": {
    "id": "K8XeaTOSKwa7"
   },
   "source": [
    "# Generating Response"
   ]
  },
  {
   "cell_type": "code",
   "execution_count": 15,
   "metadata": {
    "colab": {
     "base_uri": "https://localhost:8080/"
    },
    "id": "TPLE2bKLKDmh",
    "outputId": "f9818209-d38a-4272-91ff-38d9ab7610ea"
   },
   "outputs": [
    {
     "name": "stderr",
     "output_type": "stream",
     "text": [
      "Llama.generate: prefix-match hit\n"
     ]
    }
   ],
   "source": [
    "# give the prompt template to llm llama with this default parameters\n",
    "response = lccp_llm(prompt=prompt_template, max_tokens=256, temperature=0.5, top_p=0.95, top_k=150, repeat_penalty=1.2, echo=True)"
   ]
  },
  {
   "cell_type": "code",
   "execution_count": 16,
   "metadata": {
    "colab": {
     "base_uri": "https://localhost:8080/"
    },
    "id": "zPyAuTvsLN2e",
    "outputId": "331a48a7-915b-4d79-b0dd-2013ee49d0e1"
   },
   "outputs": [
    {
     "name": "stdout",
     "output_type": "stream",
     "text": [
      "{'id': 'cmpl-8eff7982-b9dc-42b2-bf08-a1f203b81238', 'object': 'text_completion', 'created': 1717303078, 'model': '/root/.cache/huggingface/hub/models--TheBloke--Llama-2-13B-chat-GGML/snapshots/3140827b4dfcb6b562cd87ee3d7f07109b014dd0/llama-2-13b-chat.ggmlv3.q5_1.bin', 'choices': [{'text': 'SYSTEM: You are a helpful, respectful and honest assistant. Always anser as helpfully.\\n\\nUSER: Write a linear regression code\\n\\nASSISTANT:\\n\\nTo write a linear regression code in Python, you can use the scikit-learn library. Here is an example of how to do this:\\n```\\nfrom sklearn.linear_model import LinearRegression\\nimport pandas as pd\\n\\n# Load your dataset into a Pandas DataFrame\\ndf = pd.read_csv(\"your_data.csv\")\\n\\n# Create a new column for the dependent variable (y)\\ndf[\"y\"] = df[\"dependent_variable\"]\\n\\n# Create a new column for the independent variables (x)\\ndf[\"x1\"] = df[\"independent_variable1\"]\\ndf[\"x2\"] = df[\"independent_variable2\"]\\n\\n# Split your data into training and testing sets\\nX_train, X_test, y_train, y_test = train_test_split(df[[\"x1\", \"x2\"]], df[\"y\"], test_size=0.3)\\n\\n# Create a linear regression object and fit the model to the training data\\nmodel = LinearRegression()\\nmodel.fit(X_train, y_train)\\n\\n# Make predictions on the testing data\\ny_pred = model.predict', 'index': 0, 'logprobs': None, 'finish_reason': 'length'}], 'usage': {'prompt_tokens': 39, 'completion_tokens': 256, 'total_tokens': 295}}\n"
     ]
    }
   ],
   "source": [
    "print(response)"
   ]
  },
  {
   "cell_type": "code",
   "execution_count": 17,
   "metadata": {
    "colab": {
     "base_uri": "https://localhost:8080/"
    },
    "id": "96LEdFJsLQty",
    "outputId": "cd00c6d3-8bf4-4b86-b2b1-79f63e8a75fa"
   },
   "outputs": [
    {
     "name": "stdout",
     "output_type": "stream",
     "text": [
      "SYSTEM: You are a helpful, respectful and honest assistant. Always anser as helpfully.\n",
      "\n",
      "USER: Write a linear regression code\n",
      "\n",
      "ASSISTANT:\n",
      "\n",
      "To write a linear regression code in Python, you can use the scikit-learn library. Here is an example of how to do this:\n",
      "```\n",
      "from sklearn.linear_model import LinearRegression\n",
      "import pandas as pd\n",
      "\n",
      "# Load your dataset into a Pandas DataFrame\n",
      "df = pd.read_csv(\"your_data.csv\")\n",
      "\n",
      "# Create a new column for the dependent variable (y)\n",
      "df[\"y\"] = df[\"dependent_variable\"]\n",
      "\n",
      "# Create a new column for the independent variables (x)\n",
      "df[\"x1\"] = df[\"independent_variable1\"]\n",
      "df[\"x2\"] = df[\"independent_variable2\"]\n",
      "\n",
      "# Split your data into training and testing sets\n",
      "X_train, X_test, y_train, y_test = train_test_split(df[[\"x1\", \"x2\"]], df[\"y\"], test_size=0.3)\n",
      "\n",
      "# Create a linear regression object and fit the model to the training data\n",
      "model = LinearRegression()\n",
      "model.fit(X_train, y_train)\n",
      "\n",
      "# Make predictions on the testing data\n",
      "y_pred = model.predict\n"
     ]
    }
   ],
   "source": [
    "print(response[\"choices\"][0][\"text\"])"
   ]
  },
  {
   "cell_type": "markdown",
   "metadata": {
    "id": "OB1sD1QnVZGv"
   },
   "source": [
    "# Prompt Definition"
   ]
  },
  {
   "cell_type": "code",
   "execution_count": 18,
   "metadata": {
    "id": "KrOIvdf3U65i"
   },
   "outputs": [],
   "source": [
    "# create a custom prompt template\n",
    "prompt = 'Tell me who won the FIFA world cup in 2010'\n",
    "prompt_template = f'''SYSTEM: You are a helpful, respectful and honest assistant with soccer knowledge. Always answer precisely and helpfully.\n",
    "\n",
    "USER: {prompt}\n",
    "\n",
    "ASSISTANT:\n",
    "'''"
   ]
  },
  {
   "cell_type": "code",
   "execution_count": 19,
   "metadata": {
    "colab": {
     "base_uri": "https://localhost:8080/"
    },
    "id": "fJLMGOXmVV43",
    "outputId": "7327d983-4011-4e62-9aa3-3b5629b61a02"
   },
   "outputs": [
    {
     "name": "stderr",
     "output_type": "stream",
     "text": [
      "Llama.generate: prefix-match hit\n"
     ]
    }
   ],
   "source": [
    "# give the prompt template to llm llama with this default parameters\n",
    "response = lccp_llm(prompt=prompt_template, max_tokens=256, temperature=0.5, top_p=0.95, top_k=150, repeat_penalty=1.2, echo=True)"
   ]
  },
  {
   "cell_type": "code",
   "execution_count": 20,
   "metadata": {
    "colab": {
     "base_uri": "https://localhost:8080/"
    },
    "id": "TRhGG78RVhC0",
    "outputId": "cdea7d82-a264-4ba1-e2ef-cbb1e4572265"
   },
   "outputs": [
    {
     "name": "stdout",
     "output_type": "stream",
     "text": [
      "{'id': 'cmpl-4aa8b0f3-532f-4a43-bd42-1511b664de3c', 'object': 'text_completion', 'created': 1717304685, 'model': '/root/.cache/huggingface/hub/models--TheBloke--Llama-2-13B-chat-GGML/snapshots/3140827b4dfcb6b562cd87ee3d7f07109b014dd0/llama-2-13b-chat.ggmlv3.q5_1.bin', 'choices': [{'text': 'SYSTEM: You are a helpful, respectful and honest assistant with soccer knowledge. Always answer precisely and helpfully.\\n\\nUSER: Tell me who won the FIFA world cup in 2010\\n\\nASSISTANT:\\nIn 2010, the FIFA World Cup was held in South Africa from June 11 to July 11. The tournament featured 32 national teams competing for the title of world champions. After a thrilling month of matches, Spain emerged as the winner of the FIFA World Cup 2010, defeating Netherlands 1-0 in extra time with Andrés Iniesta scoring the winning goal.', 'index': 0, 'logprobs': None, 'finish_reason': 'stop'}], 'usage': {'prompt_tokens': 52, 'completion_tokens': 90, 'total_tokens': 142}}\n"
     ]
    }
   ],
   "source": [
    "print(response)"
   ]
  },
  {
   "cell_type": "code",
   "execution_count": 21,
   "metadata": {
    "colab": {
     "base_uri": "https://localhost:8080/"
    },
    "id": "N0Z4wpazVsLk",
    "outputId": "6be59988-bdea-4d41-b015-5c50381290db"
   },
   "outputs": [
    {
     "name": "stdout",
     "output_type": "stream",
     "text": [
      "SYSTEM: You are a helpful, respectful and honest assistant with soccer knowledge. Always answer precisely and helpfully.\n",
      "\n",
      "USER: Tell me who won the FIFA world cup in 2010\n",
      "\n",
      "ASSISTANT:\n",
      "In 2010, the FIFA World Cup was held in South Africa from June 11 to July 11. The tournament featured 32 national teams competing for the title of world champions. After a thrilling month of matches, Spain emerged as the winner of the FIFA World Cup 2010, defeating Netherlands 1-0 in extra time with Andrés Iniesta scoring the winning goal.\n"
     ]
    }
   ],
   "source": [
    "print(response[\"choices\"][0][\"text\"])"
   ]
  }
 ],
 "metadata": {
  "colab": {
   "provenance": []
  },
  "kernelspec": {
   "display_name": "Python 3 (ipykernel)",
   "language": "python",
   "name": "python3"
  },
  "language_info": {
   "codemirror_mode": {
    "name": "ipython",
    "version": 3
   },
   "file_extension": ".py",
   "mimetype": "text/x-python",
   "name": "python",
   "nbconvert_exporter": "python",
   "pygments_lexer": "ipython3",
   "version": "3.10.14"
  },
  "widgets": {
   "application/vnd.jupyter.widget-state+json": {
    "17aa16f3b2504633af3db25a3a3d9740": {
     "model_module": "@jupyter-widgets/controls",
     "model_module_version": "1.5.0",
     "model_name": "HTMLModel",
     "state": {
      "_dom_classes": [],
      "_model_module": "@jupyter-widgets/controls",
      "_model_module_version": "1.5.0",
      "_model_name": "HTMLModel",
      "_view_count": null,
      "_view_module": "@jupyter-widgets/controls",
      "_view_module_version": "1.5.0",
      "_view_name": "HTMLView",
      "description": "",
      "description_tooltip": null,
      "layout": "IPY_MODEL_d4c24f2ccd8a4704b906e9366a909980",
      "placeholder": "​",
      "style": "IPY_MODEL_b075d88baec74d09b09438433cda0659",
      "value": "llama-2-13b-chat.ggmlv3.q5_1.bin: 100%"
     }
    },
    "230b1214d1af491ca9afc6d2fd9a6088": {
     "model_module": "@jupyter-widgets/controls",
     "model_module_version": "1.5.0",
     "model_name": "DescriptionStyleModel",
     "state": {
      "_model_module": "@jupyter-widgets/controls",
      "_model_module_version": "1.5.0",
      "_model_name": "DescriptionStyleModel",
      "_view_count": null,
      "_view_module": "@jupyter-widgets/base",
      "_view_module_version": "1.2.0",
      "_view_name": "StyleView",
      "description_width": ""
     }
    },
    "43e9d75e93eb45dd98eaef898bfaf3ff": {
     "model_module": "@jupyter-widgets/controls",
     "model_module_version": "1.5.0",
     "model_name": "HTMLModel",
     "state": {
      "_dom_classes": [],
      "_model_module": "@jupyter-widgets/controls",
      "_model_module_version": "1.5.0",
      "_model_name": "HTMLModel",
      "_view_count": null,
      "_view_module": "@jupyter-widgets/controls",
      "_view_module_version": "1.5.0",
      "_view_name": "HTMLView",
      "description": "",
      "description_tooltip": null,
      "layout": "IPY_MODEL_f0abce591666436099d1f4b045aa69e9",
      "placeholder": "​",
      "style": "IPY_MODEL_230b1214d1af491ca9afc6d2fd9a6088",
      "value": " 9.76G/9.76G [02:43&lt;00:00, 60.3MB/s]"
     }
    },
    "6f1f753b32794c178a5f5812226a6f56": {
     "model_module": "@jupyter-widgets/controls",
     "model_module_version": "1.5.0",
     "model_name": "FloatProgressModel",
     "state": {
      "_dom_classes": [],
      "_model_module": "@jupyter-widgets/controls",
      "_model_module_version": "1.5.0",
      "_model_name": "FloatProgressModel",
      "_view_count": null,
      "_view_module": "@jupyter-widgets/controls",
      "_view_module_version": "1.5.0",
      "_view_name": "ProgressView",
      "bar_style": "success",
      "description": "",
      "description_tooltip": null,
      "layout": "IPY_MODEL_9cb38122f60341db9ee095054046cce1",
      "max": 9763701888,
      "min": 0,
      "orientation": "horizontal",
      "style": "IPY_MODEL_efb2af7e5da743b6b4e4793e8e4fd7a1",
      "value": 9763701888
     }
    },
    "737df4dbcaa74771a1616818322aa7c9": {
     "model_module": "@jupyter-widgets/controls",
     "model_module_version": "1.5.0",
     "model_name": "HBoxModel",
     "state": {
      "_dom_classes": [],
      "_model_module": "@jupyter-widgets/controls",
      "_model_module_version": "1.5.0",
      "_model_name": "HBoxModel",
      "_view_count": null,
      "_view_module": "@jupyter-widgets/controls",
      "_view_module_version": "1.5.0",
      "_view_name": "HBoxView",
      "box_style": "",
      "children": [
       "IPY_MODEL_17aa16f3b2504633af3db25a3a3d9740",
       "IPY_MODEL_6f1f753b32794c178a5f5812226a6f56",
       "IPY_MODEL_43e9d75e93eb45dd98eaef898bfaf3ff"
      ],
      "layout": "IPY_MODEL_e37a8887e90641db960b264acd342ff0"
     }
    },
    "9cb38122f60341db9ee095054046cce1": {
     "model_module": "@jupyter-widgets/base",
     "model_module_version": "1.2.0",
     "model_name": "LayoutModel",
     "state": {
      "_model_module": "@jupyter-widgets/base",
      "_model_module_version": "1.2.0",
      "_model_name": "LayoutModel",
      "_view_count": null,
      "_view_module": "@jupyter-widgets/base",
      "_view_module_version": "1.2.0",
      "_view_name": "LayoutView",
      "align_content": null,
      "align_items": null,
      "align_self": null,
      "border": null,
      "bottom": null,
      "display": null,
      "flex": null,
      "flex_flow": null,
      "grid_area": null,
      "grid_auto_columns": null,
      "grid_auto_flow": null,
      "grid_auto_rows": null,
      "grid_column": null,
      "grid_gap": null,
      "grid_row": null,
      "grid_template_areas": null,
      "grid_template_columns": null,
      "grid_template_rows": null,
      "height": null,
      "justify_content": null,
      "justify_items": null,
      "left": null,
      "margin": null,
      "max_height": null,
      "max_width": null,
      "min_height": null,
      "min_width": null,
      "object_fit": null,
      "object_position": null,
      "order": null,
      "overflow": null,
      "overflow_x": null,
      "overflow_y": null,
      "padding": null,
      "right": null,
      "top": null,
      "visibility": null,
      "width": null
     }
    },
    "b075d88baec74d09b09438433cda0659": {
     "model_module": "@jupyter-widgets/controls",
     "model_module_version": "1.5.0",
     "model_name": "DescriptionStyleModel",
     "state": {
      "_model_module": "@jupyter-widgets/controls",
      "_model_module_version": "1.5.0",
      "_model_name": "DescriptionStyleModel",
      "_view_count": null,
      "_view_module": "@jupyter-widgets/base",
      "_view_module_version": "1.2.0",
      "_view_name": "StyleView",
      "description_width": ""
     }
    },
    "d4c24f2ccd8a4704b906e9366a909980": {
     "model_module": "@jupyter-widgets/base",
     "model_module_version": "1.2.0",
     "model_name": "LayoutModel",
     "state": {
      "_model_module": "@jupyter-widgets/base",
      "_model_module_version": "1.2.0",
      "_model_name": "LayoutModel",
      "_view_count": null,
      "_view_module": "@jupyter-widgets/base",
      "_view_module_version": "1.2.0",
      "_view_name": "LayoutView",
      "align_content": null,
      "align_items": null,
      "align_self": null,
      "border": null,
      "bottom": null,
      "display": null,
      "flex": null,
      "flex_flow": null,
      "grid_area": null,
      "grid_auto_columns": null,
      "grid_auto_flow": null,
      "grid_auto_rows": null,
      "grid_column": null,
      "grid_gap": null,
      "grid_row": null,
      "grid_template_areas": null,
      "grid_template_columns": null,
      "grid_template_rows": null,
      "height": null,
      "justify_content": null,
      "justify_items": null,
      "left": null,
      "margin": null,
      "max_height": null,
      "max_width": null,
      "min_height": null,
      "min_width": null,
      "object_fit": null,
      "object_position": null,
      "order": null,
      "overflow": null,
      "overflow_x": null,
      "overflow_y": null,
      "padding": null,
      "right": null,
      "top": null,
      "visibility": null,
      "width": null
     }
    },
    "e37a8887e90641db960b264acd342ff0": {
     "model_module": "@jupyter-widgets/base",
     "model_module_version": "1.2.0",
     "model_name": "LayoutModel",
     "state": {
      "_model_module": "@jupyter-widgets/base",
      "_model_module_version": "1.2.0",
      "_model_name": "LayoutModel",
      "_view_count": null,
      "_view_module": "@jupyter-widgets/base",
      "_view_module_version": "1.2.0",
      "_view_name": "LayoutView",
      "align_content": null,
      "align_items": null,
      "align_self": null,
      "border": null,
      "bottom": null,
      "display": null,
      "flex": null,
      "flex_flow": null,
      "grid_area": null,
      "grid_auto_columns": null,
      "grid_auto_flow": null,
      "grid_auto_rows": null,
      "grid_column": null,
      "grid_gap": null,
      "grid_row": null,
      "grid_template_areas": null,
      "grid_template_columns": null,
      "grid_template_rows": null,
      "height": null,
      "justify_content": null,
      "justify_items": null,
      "left": null,
      "margin": null,
      "max_height": null,
      "max_width": null,
      "min_height": null,
      "min_width": null,
      "object_fit": null,
      "object_position": null,
      "order": null,
      "overflow": null,
      "overflow_x": null,
      "overflow_y": null,
      "padding": null,
      "right": null,
      "top": null,
      "visibility": null,
      "width": null
     }
    },
    "efb2af7e5da743b6b4e4793e8e4fd7a1": {
     "model_module": "@jupyter-widgets/controls",
     "model_module_version": "1.5.0",
     "model_name": "ProgressStyleModel",
     "state": {
      "_model_module": "@jupyter-widgets/controls",
      "_model_module_version": "1.5.0",
      "_model_name": "ProgressStyleModel",
      "_view_count": null,
      "_view_module": "@jupyter-widgets/base",
      "_view_module_version": "1.2.0",
      "_view_name": "StyleView",
      "bar_color": null,
      "description_width": ""
     }
    },
    "f0abce591666436099d1f4b045aa69e9": {
     "model_module": "@jupyter-widgets/base",
     "model_module_version": "1.2.0",
     "model_name": "LayoutModel",
     "state": {
      "_model_module": "@jupyter-widgets/base",
      "_model_module_version": "1.2.0",
      "_model_name": "LayoutModel",
      "_view_count": null,
      "_view_module": "@jupyter-widgets/base",
      "_view_module_version": "1.2.0",
      "_view_name": "LayoutView",
      "align_content": null,
      "align_items": null,
      "align_self": null,
      "border": null,
      "bottom": null,
      "display": null,
      "flex": null,
      "flex_flow": null,
      "grid_area": null,
      "grid_auto_columns": null,
      "grid_auto_flow": null,
      "grid_auto_rows": null,
      "grid_column": null,
      "grid_gap": null,
      "grid_row": null,
      "grid_template_areas": null,
      "grid_template_columns": null,
      "grid_template_rows": null,
      "height": null,
      "justify_content": null,
      "justify_items": null,
      "left": null,
      "margin": null,
      "max_height": null,
      "max_width": null,
      "min_height": null,
      "min_width": null,
      "object_fit": null,
      "object_position": null,
      "order": null,
      "overflow": null,
      "overflow_x": null,
      "overflow_y": null,
      "padding": null,
      "right": null,
      "top": null,
      "visibility": null,
      "width": null
     }
    }
   }
  }
 },
 "nbformat": 4,
 "nbformat_minor": 4
}

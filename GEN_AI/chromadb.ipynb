{
 "cells": [
  {
   "cell_type": "code",
   "execution_count": 3,
   "id": "1385a1d9-07a3-41fa-80bf-e231718e808b",
   "metadata": {},
   "outputs": [],
   "source": [
    "#!pip install chromadb"
   ]
  },
  {
   "cell_type": "code",
   "execution_count": 11,
   "id": "d234a546-7ef4-4781-8b3c-e9edbfdc15b7",
   "metadata": {},
   "outputs": [],
   "source": [
    "# install libraries\n",
    "from langchain.document_loaders import DirectoryLoader, TextLoader\n",
    "from langchain.embeddings import OpenAIEmbeddings\n",
    "from langchain.llms import OpenAI\n",
    "from langchain.vectorstores import Chroma\n",
    "from langchain.text_splitter import RecursiveCharacterTextSplitter"
   ]
  },
  {
   "cell_type": "code",
   "execution_count": null,
   "id": "11a7d190-08ac-4325-8591-73725a676f21",
   "metadata": {},
   "outputs": [],
   "source": [
    "# loading the textfile: no textfile here, just practice codes\n",
    "loader = DirectoryLoader('filepath', glob='*.txt', loader_cls=TextLoader)\n",
    "document = loader.load()    # load the document"
   ]
  },
  {
   "cell_type": "code",
   "execution_count": 10,
   "id": "3486dfb1-e167-436b-93f7-5817ab617903",
   "metadata": {},
   "outputs": [],
   "source": [
    "# chunks object for import\n",
    "text_split = RecursiveCharacterTextSplitter(chunk_size=1000, chunk_overlap=200)"
   ]
  },
  {
   "cell_type": "code",
   "execution_count": null,
   "id": "e2ac74d5-91be-4477-8905-decf0d5f1fc4",
   "metadata": {},
   "outputs": [],
   "source": [
    "test_chunk = text_split.split_documents(document)  # chunks of the document"
   ]
  },
  {
   "cell_type": "code",
   "execution_count": null,
   "id": "66947f5a-911d-4553-9f9a-d24e1d45e39a",
   "metadata": {},
   "outputs": [],
   "source": [
    "test_chunk[0].page_content   # first chunk"
   ]
  },
  {
   "cell_type": "markdown",
   "id": "1226b01f-92f2-4785-b3a8-845d92763f4e",
   "metadata": {},
   "source": [
    "##### Creating DB"
   ]
  },
  {
   "cell_type": "code",
   "execution_count": null,
   "id": "564106d5-9523-4175-81bc-1c1b2ecd6b51",
   "metadata": {},
   "outputs": [],
   "source": [
    "persist_directory = 'db'    # --> similar to index on Pinecode but not on cloud\n",
    "\n",
    "embedding = OpenAIEmbeddings()\n",
    "\n",
    "vectod_db = Chroma.from_documents(documents=test_chunk, embedding=embedding, persist_directory=persist_directory)\n",
    "vector_db.persist()                  # persist data in the local disk"
   ]
  },
  {
   "cell_type": "code",
   "execution_count": null,
   "id": "24625507-e240-47d2-9648-8aaf1bcb513e",
   "metadata": {},
   "outputs": [],
   "source": [
    "# Making retrieval\n",
    "retrieval = vector_db.as_retrieval"
   ]
  },
  {
   "cell_type": "code",
   "execution_count": null,
   "id": "2ac9998c-dc93-44e8-b6b3-019faa08ae3f",
   "metadata": {},
   "outputs": [],
   "source": [
    "# searches the documents used and gives a response.\n",
    "docs = retrieval.get_relevant_documents('any question based on the txt file used') \n",
    "docs "
   ]
  },
  {
   "cell_type": "markdown",
   "id": "838ad64c-6d67-4a5c-8b3b-952562c9e641",
   "metadata": {},
   "source": [
    "#### Make a Chain"
   ]
  },
  {
   "cell_type": "code",
   "execution_count": 12,
   "id": "a420d620-9ef8-48c3-a03b-cd6bd36eb4e4",
   "metadata": {},
   "outputs": [],
   "source": [
    "from langchain.chains import RetrievalQA"
   ]
  },
  {
   "cell_type": "code",
   "execution_count": null,
   "id": "8d8c6769-5946-4082-8dbd-099adde60c25",
   "metadata": {},
   "outputs": [],
   "source": [
    "# retrieval with an LLM\n",
    "qa_chain = RetrievalQA.from_chain_type(llm=OpenAI, chain_type='stuff', retriever=retrieval, return_source_documents=True)"
   ]
  },
  {
   "cell_type": "code",
   "execution_count": null,
   "id": "2d99a944-72a5-4c12-8c15-b1147f7990ac",
   "metadata": {},
   "outputs": [],
   "source": [
    "# how to get refined answer from llm with the aid of retrieval\n",
    "query = 'any question asked from the text paper'\n",
    "llm_response = qa_chain.run(query) or qa_chain(query)\n",
    "doc = vector_db.similarity_search(query)       # cosine similarity score"
   ]
  }
 ],
 "metadata": {
  "kernelspec": {
   "display_name": "Python 3 (ipykernel)",
   "language": "python",
   "name": "python3"
  },
  "language_info": {
   "codemirror_mode": {
    "name": "ipython",
    "version": 3
   },
   "file_extension": ".py",
   "mimetype": "text/x-python",
   "name": "python",
   "nbconvert_exporter": "python",
   "pygments_lexer": "ipython3",
   "version": "3.10.14"
  }
 },
 "nbformat": 4,
 "nbformat_minor": 5
}

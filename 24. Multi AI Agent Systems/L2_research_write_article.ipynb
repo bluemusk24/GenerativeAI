{
 "cells": [
  {
   "cell_type": "markdown",
   "metadata": {},
   "source": [
    "You can download the `requirements.txt` for this course from the workspace of this lab. `File --> Open...`"
   ]
  },
  {
   "cell_type": "markdown",
   "metadata": {},
   "source": [
    "# L2: Create Agents to Research and Write an Article\n",
    "\n",
    "In this lesson, you will be introduced to the foundational concepts of multi-agent systems and get an overview of the crewAI framework."
   ]
  },
  {
   "cell_type": "markdown",
   "metadata": {},
   "source": [
    "The libraries are already installed in the classroom. If you're running this notebook on your own machine, you can install the following:\n",
    "```Python\n",
    "!pip install crewai==0.28.8 crewai_tools==0.1.6 langchain_community==0.0.29\n",
    "```"
   ]
  },
  {
   "cell_type": "code",
   "execution_count": 1,
   "metadata": {
    "height": 64
   },
   "outputs": [],
   "source": [
    "# Warning control\n",
    "import warnings\n",
    "warnings.filterwarnings('ignore')"
   ]
  },
  {
   "cell_type": "markdown",
   "metadata": {},
   "source": [
    "- Import from the crewAI libray."
   ]
  },
  {
   "cell_type": "code",
   "execution_count": 2,
   "metadata": {
    "height": 30
   },
   "outputs": [],
   "source": [
    "from crewai import Agent, Task, Crew"
   ]
  },
  {
   "cell_type": "markdown",
   "metadata": {},
   "source": [
    "- As a LLM for your agents, you'll be using OpenAI's `gpt-3.5-turbo`.\n",
    "\n",
    "**Optional Note:** crewAI also allow other popular models to be used as a LLM for your Agents. You can see some of the examples at the [bottom of the notebook](#1)."
   ]
  },
  {
   "cell_type": "code",
   "execution_count": 3,
   "metadata": {
    "height": 98
   },
   "outputs": [],
   "source": [
    "import os\n",
    "from utils import get_openai_api_key\n",
    "\n",
    "openai_api_key = get_openai_api_key()\n",
    "os.environ[\"OPENAI_MODEL_NAME\"] = 'gpt-3.5-turbo'"
   ]
  },
  {
   "cell_type": "markdown",
   "metadata": {},
   "source": [
    "## Creating Agents\n",
    "\n",
    "- Define your Agents, and provide them a `role`, `goal` and `backstory`.\n",
    "- It has been seen that LLMs perform better when they are role playing."
   ]
  },
  {
   "cell_type": "markdown",
   "metadata": {},
   "source": [
    "### Agent: Planner\n",
    "\n",
    "**Note**: The benefit of using _multiple strings_ :\n",
    "```Python\n",
    "varname = \"line 1 of text\"\n",
    "          \"line 2 of text\"\n",
    "```\n",
    "\n",
    "versus the _triple quote docstring_:\n",
    "```Python\n",
    "varname = \"\"\"line 1 of text\n",
    "             line 2 of text\n",
    "          \"\"\"\n",
    "```\n",
    "is that it can avoid adding those whitespaces and newline characters, making it better formatted to be passed to the LLM."
   ]
  },
  {
   "cell_type": "code",
   "execution_count": 4,
   "metadata": {
    "height": 251
   },
   "outputs": [],
   "source": [
    "planner = Agent(\n",
    "    role=\"Content Planner\",\n",
    "    goal=\"Plan engaging and factually accurate content on {topic}\",\n",
    "    backstory=\"You're working on planning a blog article \"\n",
    "              \"about the topic: {topic}.\"\n",
    "              \"You collect information that helps the \"\n",
    "              \"audience learn something \"\n",
    "              \"and make informed decisions. \"\n",
    "              \"Your work is the basis for \"\n",
    "              \"the Content Writer to write an article on this topic.\",\n",
    "    allow_delegation=False,\n",
    "\tverbose=True\n",
    ")"
   ]
  },
  {
   "cell_type": "markdown",
   "metadata": {},
   "source": [
    "### Agent: Writer"
   ]
  },
  {
   "cell_type": "code",
   "execution_count": 5,
   "metadata": {
    "height": 387
   },
   "outputs": [],
   "source": [
    "writer = Agent(\n",
    "    role=\"Content Writer\",\n",
    "    goal=\"Write insightful and factually accurate \"\n",
    "         \"opinion piece about the topic: {topic}\",\n",
    "    backstory=\"You're working on a writing \"\n",
    "              \"a new opinion piece about the topic: {topic}. \"\n",
    "              \"You base your writing on the work of \"\n",
    "              \"the Content Planner, who provides an outline \"\n",
    "              \"and relevant context about the topic. \"\n",
    "              \"You follow the main objectives and \"\n",
    "              \"direction of the outline, \"\n",
    "              \"as provide by the Content Planner. \"\n",
    "              \"You also provide objective and impartial insights \"\n",
    "              \"and back them up with information \"\n",
    "              \"provide by the Content Planner. \"\n",
    "              \"You acknowledge in your opinion piece \"\n",
    "              \"when your statements are opinions \"\n",
    "              \"as opposed to objective statements.\",\n",
    "    allow_delegation=False,\n",
    "    verbose=True\n",
    ")"
   ]
  },
  {
   "cell_type": "markdown",
   "metadata": {},
   "source": [
    "### Agent: Editor"
   ]
  },
  {
   "cell_type": "code",
   "execution_count": 6,
   "metadata": {
    "height": 285
   },
   "outputs": [],
   "source": [
    "editor = Agent(\n",
    "    role=\"Editor\",\n",
    "    goal=\"Edit a given blog post to align with \"\n",
    "         \"the writing style of the organization. \",\n",
    "    backstory=\"You are an editor who receives a blog post \"\n",
    "              \"from the Content Writer. \"\n",
    "              \"Your goal is to review the blog post \"\n",
    "              \"to ensure that it follows journalistic best practices,\"\n",
    "              \"provides balanced viewpoints \"\n",
    "              \"when providing opinions or assertions, \"\n",
    "              \"and also avoids major controversial topics \"\n",
    "              \"or opinions when possible.\",\n",
    "    allow_delegation=False,\n",
    "    verbose=True\n",
    ")"
   ]
  },
  {
   "cell_type": "markdown",
   "metadata": {},
   "source": [
    "## Creating Tasks\n",
    "\n",
    "- Define your Tasks, and provide them a `description`, `expected_output` and `agent`."
   ]
  },
  {
   "cell_type": "markdown",
   "metadata": {},
   "source": [
    "### Task: Plan"
   ]
  },
  {
   "cell_type": "code",
   "execution_count": 7,
   "metadata": {
    "height": 285
   },
   "outputs": [],
   "source": [
    "plan = Task(\n",
    "    description=(\n",
    "        \"1. Prioritize the latest trends, key players, \"\n",
    "            \"and noteworthy news on {topic}.\\n\"\n",
    "        \"2. Identify the target audience, considering \"\n",
    "            \"their interests and pain points.\\n\"\n",
    "        \"3. Develop a detailed content outline including \"\n",
    "            \"an introduction, key points, and a call to action.\\n\"\n",
    "        \"4. Include SEO keywords and relevant data or sources.\"\n",
    "    ),\n",
    "    expected_output=\"A comprehensive content plan document \"\n",
    "        \"with an outline, audience analysis, \"\n",
    "        \"SEO keywords, and resources.\",\n",
    "    agent=planner,\n",
    ")"
   ]
  },
  {
   "cell_type": "markdown",
   "metadata": {},
   "source": [
    "### Task: Write"
   ]
  },
  {
   "cell_type": "code",
   "execution_count": 8,
   "metadata": {
    "height": 319
   },
   "outputs": [],
   "source": [
    "write = Task(\n",
    "    description=(\n",
    "        \"1. Use the content plan to craft a compelling \"\n",
    "            \"blog post on {topic}.\\n\"\n",
    "        \"2. Incorporate SEO keywords naturally.\\n\"\n",
    "\t\t\"3. Sections/Subtitles are properly named \"\n",
    "            \"in an engaging manner.\\n\"\n",
    "        \"4. Ensure the post is structured with an \"\n",
    "            \"engaging introduction, insightful body, \"\n",
    "            \"and a summarizing conclusion.\\n\"\n",
    "        \"5. Proofread for grammatical errors and \"\n",
    "            \"alignment with the brand's voice.\\n\"\n",
    "    ),\n",
    "    expected_output=\"A well-written blog post \"\n",
    "        \"in markdown format, ready for publication, \"\n",
    "        \"each section should have 2 or 3 paragraphs.\",\n",
    "    agent=writer,\n",
    ")"
   ]
  },
  {
   "cell_type": "markdown",
   "metadata": {},
   "source": [
    "### Task: Edit"
   ]
  },
  {
   "cell_type": "code",
   "execution_count": 9,
   "metadata": {
    "height": 183
   },
   "outputs": [],
   "source": [
    "edit = Task(\n",
    "    description=(\"Proofread the given blog post for \"\n",
    "                 \"grammatical errors and \"\n",
    "                 \"alignment with the brand's voice.\"),\n",
    "    expected_output=\"A well-written blog post in markdown format, \"\n",
    "                    \"ready for publication, \"\n",
    "                    \"each section should have 2 or 3 paragraphs.\",\n",
    "    agent=editor\n",
    ")"
   ]
  },
  {
   "cell_type": "markdown",
   "metadata": {},
   "source": [
    "## Creating the Crew\n",
    "\n",
    "- Create your crew of Agents\n",
    "- Pass the tasks to be performed by those agents.\n",
    "    - **Note**: *For this simple example*, the tasks will be performed sequentially (i.e they are dependent on each other), so the _order_ of the task in the list _matters_.\n",
    "- `verbose=2` allows you to see all the logs of the execution. "
   ]
  },
  {
   "cell_type": "code",
   "execution_count": 10,
   "metadata": {
    "height": 98
   },
   "outputs": [],
   "source": [
    "crew = Crew(\n",
    "    agents=[planner, writer, editor],\n",
    "    tasks=[plan, write, edit],\n",
    "    verbose=2\n",
    ")"
   ]
  },
  {
   "cell_type": "markdown",
   "metadata": {},
   "source": [
    "## Running the Crew"
   ]
  },
  {
   "cell_type": "markdown",
   "metadata": {},
   "source": [
    "**Note**: LLMs can provide different outputs for they same input, so what you get might be different than what you see in the video."
   ]
  },
  {
   "cell_type": "code",
   "execution_count": 11,
   "metadata": {
    "height": 47
   },
   "outputs": [
    {
     "name": "stdout",
     "output_type": "stream",
     "text": [
      "\u001b[1m\u001b[95m [DEBUG]: == Working Agent: Content Planner\u001b[00m\n",
      "\u001b[1m\u001b[95m [INFO]: == Starting Task: 1. Prioritize the latest trends, key players, and noteworthy news on Artificial Intelligence.\n",
      "2. Identify the target audience, considering their interests and pain points.\n",
      "3. Develop a detailed content outline including an introduction, key points, and a call to action.\n",
      "4. Include SEO keywords and relevant data or sources.\u001b[00m\n",
      "\n",
      "\n",
      "\u001b[1m> Entering new CrewAgentExecutor chain...\u001b[0m\n",
      "\u001b[32;1m\u001b[1;3mI now can give a great answer\n",
      "\n",
      "Final Answer: \n",
      "\n",
      "Title: Unveiling the Latest Trends and Key Players in Artificial Intelligence\n",
      "\n",
      "Introduction:\n",
      "- Brief overview of the importance of Artificial Intelligence in today's technology-driven world\n",
      "- Mention of the rapid advancements and innovations in the field\n",
      "\n",
      "Key Points:\n",
      "1. Latest Trends in Artificial Intelligence:\n",
      "- Machine learning and deep learning algorithms\n",
      "- Natural language processing and sentiment analysis\n",
      "- AI-powered chatbots and virtual assistants\n",
      "- Autonomous vehicles and robotics\n",
      "\n",
      "2. Key Players in the AI Industry:\n",
      "- Google's DeepMind\n",
      "- IBM Watson\n",
      "- Amazon Web Services (AWS) AI\n",
      "- Microsoft Azure AI\n",
      "- OpenAI\n",
      "- NVIDIA\n",
      "\n",
      "3. Noteworthy News in Artificial Intelligence:\n",
      "- Recent breakthroughs in AI research\n",
      "- Impact of AI on various industries\n",
      "- Ethical considerations and regulations in AI development\n",
      "\n",
      "Audience Analysis:\n",
      "- Target Audience: Tech-savvy individuals, business professionals, and students interested in AI\n",
      "- Interests: Innovation, technology, future trends, and practical applications of AI\n",
      "- Pain Points: Understanding complex AI concepts, staying updated on the latest trends, and choosing the right AI solution for their needs\n",
      "\n",
      "SEO Keywords:\n",
      "- Artificial Intelligence trends 2021\n",
      "- Key players in AI industry\n",
      "- Latest news in Artificial Intelligence\n",
      "- AI developments and innovations\n",
      "- Impact of AI on business\n",
      "\n",
      "Call to Action:\n",
      "- Encourage readers to explore more about Artificial Intelligence by subscribing to our newsletter or attending AI-related events\n",
      "- Prompt them to share their thoughts and experiences with AI in the comments section\n",
      "\n",
      "Resources:\n",
      "- Research papers, industry reports, and case studies on AI trends\n",
      "- Interviews with AI experts and thought leaders\n",
      "- Relevant articles and blog posts from reputable sources\n",
      "\n",
      "Overall, this blog article will provide a comprehensive overview of the latest trends, key players, and noteworthy news in Artificial Intelligence, catering to a diverse audience interested in the field. By incorporating SEO keywords and valuable resources, the content will be engaging, informative, and relevant to the target audience's interests and pain points.\u001b[0m\n",
      "\n",
      "\u001b[1m> Finished chain.\u001b[0m\n",
      "\u001b[1m\u001b[92m [DEBUG]: == [Content Planner] Task output: Title: Unveiling the Latest Trends and Key Players in Artificial Intelligence\n",
      "\n",
      "Introduction:\n",
      "- Brief overview of the importance of Artificial Intelligence in today's technology-driven world\n",
      "- Mention of the rapid advancements and innovations in the field\n",
      "\n",
      "Key Points:\n",
      "1. Latest Trends in Artificial Intelligence:\n",
      "- Machine learning and deep learning algorithms\n",
      "- Natural language processing and sentiment analysis\n",
      "- AI-powered chatbots and virtual assistants\n",
      "- Autonomous vehicles and robotics\n",
      "\n",
      "2. Key Players in the AI Industry:\n",
      "- Google's DeepMind\n",
      "- IBM Watson\n",
      "- Amazon Web Services (AWS) AI\n",
      "- Microsoft Azure AI\n",
      "- OpenAI\n",
      "- NVIDIA\n",
      "\n",
      "3. Noteworthy News in Artificial Intelligence:\n",
      "- Recent breakthroughs in AI research\n",
      "- Impact of AI on various industries\n",
      "- Ethical considerations and regulations in AI development\n",
      "\n",
      "Audience Analysis:\n",
      "- Target Audience: Tech-savvy individuals, business professionals, and students interested in AI\n",
      "- Interests: Innovation, technology, future trends, and practical applications of AI\n",
      "- Pain Points: Understanding complex AI concepts, staying updated on the latest trends, and choosing the right AI solution for their needs\n",
      "\n",
      "SEO Keywords:\n",
      "- Artificial Intelligence trends 2021\n",
      "- Key players in AI industry\n",
      "- Latest news in Artificial Intelligence\n",
      "- AI developments and innovations\n",
      "- Impact of AI on business\n",
      "\n",
      "Call to Action:\n",
      "- Encourage readers to explore more about Artificial Intelligence by subscribing to our newsletter or attending AI-related events\n",
      "- Prompt them to share their thoughts and experiences with AI in the comments section\n",
      "\n",
      "Resources:\n",
      "- Research papers, industry reports, and case studies on AI trends\n",
      "- Interviews with AI experts and thought leaders\n",
      "- Relevant articles and blog posts from reputable sources\n",
      "\n",
      "Overall, this blog article will provide a comprehensive overview of the latest trends, key players, and noteworthy news in Artificial Intelligence, catering to a diverse audience interested in the field. By incorporating SEO keywords and valuable resources, the content will be engaging, informative, and relevant to the target audience's interests and pain points.\n",
      "\n",
      "\u001b[00m\n",
      "\u001b[1m\u001b[95m [DEBUG]: == Working Agent: Content Writer\u001b[00m\n",
      "\u001b[1m\u001b[95m [INFO]: == Starting Task: 1. Use the content plan to craft a compelling blog post on Artificial Intelligence.\n",
      "2. Incorporate SEO keywords naturally.\n",
      "3. Sections/Subtitles are properly named in an engaging manner.\n",
      "4. Ensure the post is structured with an engaging introduction, insightful body, and a summarizing conclusion.\n",
      "5. Proofread for grammatical errors and alignment with the brand's voice.\n",
      "\u001b[00m\n",
      "\n",
      "\n",
      "\u001b[1m> Entering new CrewAgentExecutor chain...\u001b[0m\n",
      "\u001b[32;1m\u001b[1;3mI can use the provided content plan to craft a compelling blog post on Artificial Intelligence that covers the latest trends, key players, and noteworthy news in the industry. By incorporating SEO keywords and structuring the post with engaging sections, I can create a valuable piece of content for tech-savvy individuals, business professionals, and students interested in AI.\n",
      "\n",
      "Final Answer:\n",
      "\n",
      "# Unveiling the Latest Trends and Key Players in Artificial Intelligence\n",
      "\n",
      "## Introduction\n",
      "\n",
      "Artificial Intelligence (AI) has become increasingly essential in today's technology-driven world, revolutionizing various industries with its capabilities. The rapid advancements and innovations in AI have paved the way for groundbreaking applications, making it a pivotal area of interest for tech enthusiasts and professionals alike.\n",
      "\n",
      "## Latest Trends in Artificial Intelligence\n",
      "\n",
      "The latest trends in AI encompass a wide range of developments, from machine learning and deep learning algorithms to natural language processing and sentiment analysis. These technologies are driving significant advancements in AI applications, enabling AI-powered chatbots, virtual assistants, autonomous vehicles, and robotics to thrive in various sectors.\n",
      "\n",
      "AI is continuously evolving, with new trends emerging to shape the future of technology. Embracing these trends can lead to enhanced efficiency, improved decision-making processes, and innovative solutions in a world increasingly reliant on AI-driven systems.\n",
      "\n",
      "## Key Players in the AI Industry\n",
      "\n",
      "The AI industry boasts an array of key players that have significantly contributed to its growth and development. Companies like Google's DeepMind, IBM Watson, Amazon Web Services (AWS) AI, Microsoft Azure AI, OpenAI, and NVIDIA are at the forefront of AI innovation, driving progress and setting benchmarks for excellence in the field.\n",
      "\n",
      "These key players invest heavily in research and development to push the boundaries of AI capabilities, creating cutting-edge solutions and services that cater to diverse market needs. Their contributions not only shape the industry landscape but also inspire future generations of AI enthusiasts to explore the endless possibilities of artificial intelligence.\n",
      "\n",
      "## Noteworthy News in Artificial Intelligence\n",
      "\n",
      "Recent breakthroughs in AI research have captured the attention of the global community, showcasing the potential of AI to revolutionize various industries. From healthcare to finance, AI's impact is felt across sectors, offering new opportunities for growth, efficiency, and innovation.\n",
      "\n",
      "As AI continues to advance, ethical considerations and regulations have become crucial topics of discussion. The responsible development and deployment of AI technologies are essential to ensure their benefits are maximized while mitigating potential risks and challenges associated with their use.\n",
      "\n",
      "## Conclusion\n",
      "\n",
      "In conclusion, Artificial Intelligence remains a dynamic and rapidly evolving field, with the latest trends, key players, and noteworthy news shaping its trajectory. By staying informed about AI developments and innovations, individuals can leverage the power of AI to drive progress, foster innovation, and create a better future for all.\n",
      "\n",
      "As we navigate the ever-changing landscape of AI, it is essential to engage with the latest trends, understand the key players driving innovation, and stay informed about the significant news shaping the industry. By embracing AI's potential and exploring its practical applications, we can unlock new opportunities and possibilities that will shape the future of technology and society.\n",
      "\n",
      "**Call to Action:**\n",
      "Explore more about Artificial Intelligence by subscribing to our newsletter or attending AI-related events. Share your thoughts and experiences with AI in the comments section below.\n",
      "\n",
      "Remember, the future is AI, and by staying informed and engaged, we can harness its power to drive positive change and innovation in the world.\u001b[0m\n",
      "\n",
      "\u001b[1m> Finished chain.\u001b[0m\n",
      "\u001b[1m\u001b[92m [DEBUG]: == [Content Writer] Task output: # Unveiling the Latest Trends and Key Players in Artificial Intelligence\n",
      "\n",
      "## Introduction\n",
      "\n",
      "Artificial Intelligence (AI) has become increasingly essential in today's technology-driven world, revolutionizing various industries with its capabilities. The rapid advancements and innovations in AI have paved the way for groundbreaking applications, making it a pivotal area of interest for tech enthusiasts and professionals alike.\n",
      "\n",
      "## Latest Trends in Artificial Intelligence\n",
      "\n",
      "The latest trends in AI encompass a wide range of developments, from machine learning and deep learning algorithms to natural language processing and sentiment analysis. These technologies are driving significant advancements in AI applications, enabling AI-powered chatbots, virtual assistants, autonomous vehicles, and robotics to thrive in various sectors.\n",
      "\n",
      "AI is continuously evolving, with new trends emerging to shape the future of technology. Embracing these trends can lead to enhanced efficiency, improved decision-making processes, and innovative solutions in a world increasingly reliant on AI-driven systems.\n",
      "\n",
      "## Key Players in the AI Industry\n",
      "\n",
      "The AI industry boasts an array of key players that have significantly contributed to its growth and development. Companies like Google's DeepMind, IBM Watson, Amazon Web Services (AWS) AI, Microsoft Azure AI, OpenAI, and NVIDIA are at the forefront of AI innovation, driving progress and setting benchmarks for excellence in the field.\n",
      "\n",
      "These key players invest heavily in research and development to push the boundaries of AI capabilities, creating cutting-edge solutions and services that cater to diverse market needs. Their contributions not only shape the industry landscape but also inspire future generations of AI enthusiasts to explore the endless possibilities of artificial intelligence.\n",
      "\n",
      "## Noteworthy News in Artificial Intelligence\n",
      "\n",
      "Recent breakthroughs in AI research have captured the attention of the global community, showcasing the potential of AI to revolutionize various industries. From healthcare to finance, AI's impact is felt across sectors, offering new opportunities for growth, efficiency, and innovation.\n",
      "\n",
      "As AI continues to advance, ethical considerations and regulations have become crucial topics of discussion. The responsible development and deployment of AI technologies are essential to ensure their benefits are maximized while mitigating potential risks and challenges associated with their use.\n",
      "\n",
      "## Conclusion\n",
      "\n",
      "In conclusion, Artificial Intelligence remains a dynamic and rapidly evolving field, with the latest trends, key players, and noteworthy news shaping its trajectory. By staying informed about AI developments and innovations, individuals can leverage the power of AI to drive progress, foster innovation, and create a better future for all.\n",
      "\n",
      "As we navigate the ever-changing landscape of AI, it is essential to engage with the latest trends, understand the key players driving innovation, and stay informed about the significant news shaping the industry. By embracing AI's potential and exploring its practical applications, we can unlock new opportunities and possibilities that will shape the future of technology and society.\n",
      "\n",
      "**Call to Action:**\n",
      "Explore more about Artificial Intelligence by subscribing to our newsletter or attending AI-related events. Share your thoughts and experiences with AI in the comments section below.\n",
      "\n",
      "Remember, the future is AI, and by staying informed and engaged, we can harness its power to drive positive change and innovation in the world.\n",
      "\n",
      "\u001b[00m\n",
      "\u001b[1m\u001b[95m [DEBUG]: == Working Agent: Editor\u001b[00m\n",
      "\u001b[1m\u001b[95m [INFO]: == Starting Task: Proofread the given blog post for grammatical errors and alignment with the brand's voice.\u001b[00m\n",
      "\n",
      "\n",
      "\u001b[1m> Entering new CrewAgentExecutor chain...\u001b[0m\n"
     ]
    },
    {
     "name": "stdout",
     "output_type": "stream",
     "text": [
      "\u001b[32;1m\u001b[1;3mI now can give a great answer\n",
      "\n",
      "Final Answer:\n",
      "# Unveiling the Latest Trends and Key Players in Artificial Intelligence\n",
      "\n",
      "## Introduction\n",
      "\n",
      "Artificial Intelligence (AI) has become increasingly essential in today's technology-driven world, revolutionizing various industries with its capabilities. The rapid advancements and innovations in AI have paved the way for groundbreaking applications, making it a pivotal area of interest for tech enthusiasts and professionals alike.\n",
      "\n",
      "## Latest Trends in Artificial Intelligence\n",
      "\n",
      "The latest trends in AI encompass a wide range of developments, from machine learning and deep learning algorithms to natural language processing and sentiment analysis. These technologies are driving significant advancements in AI applications, enabling AI-powered chatbots, virtual assistants, autonomous vehicles, and robotics to thrive in various sectors.\n",
      "\n",
      "AI is continuously evolving, with new trends emerging to shape the future of technology. Embracing these trends can lead to enhanced efficiency, improved decision-making processes, and innovative solutions in a world increasingly reliant on AI-driven systems.\n",
      "\n",
      "## Key Players in the AI Industry\n",
      "\n",
      "The AI industry boasts an array of key players that have significantly contributed to its growth and development. Companies like Google's DeepMind, IBM Watson, Amazon Web Services (AWS) AI, Microsoft Azure AI, OpenAI, and NVIDIA are at the forefront of AI innovation, driving progress and setting benchmarks for excellence in the field.\n",
      "\n",
      "These key players invest heavily in research and development to push the boundaries of AI capabilities, creating cutting-edge solutions and services that cater to diverse market needs. Their contributions not only shape the industry landscape but also inspire future generations of AI enthusiasts to explore the endless possibilities of artificial intelligence.\n",
      "\n",
      "## Noteworthy News in Artificial Intelligence\n",
      "\n",
      "Recent breakthroughs in AI research have captured the attention of the global community, showcasing the potential of AI to revolutionize various industries. From healthcare to finance, AI's impact is felt across sectors, offering new opportunities for growth, efficiency, and innovation.\n",
      "\n",
      "As AI continues to advance, ethical considerations and regulations have become crucial topics of discussion. The responsible development and deployment of AI technologies are essential to ensure their benefits are maximized while mitigating potential risks and challenges associated with their use.\n",
      "\n",
      "## Conclusion\n",
      "\n",
      "In conclusion, Artificial Intelligence remains a dynamic and rapidly evolving field, with the latest trends, key players, and noteworthy news shaping its trajectory. By staying informed about AI developments and innovations, individuals can leverage the power of AI to drive progress, foster innovation, and create a better future for all.\n",
      "\n",
      "As we navigate the ever-changing landscape of AI, it is essential to engage with the latest trends, understand the key players driving innovation, and stay informed about the significant news shaping the industry. By embracing AI's potential and exploring its practical applications, we can unlock new opportunities and possibilities that will shape the future of technology and society.\n",
      "\n",
      "**Call to Action:**\n",
      "Explore more about Artificial Intelligence by subscribing to our newsletter or attending AI-related events. Share your thoughts and experiences with AI in the comments section below.\n",
      "\n",
      "Remember, the future is AI, and by staying informed and engaged, we can harness its power to drive positive change and innovation in the world.\u001b[0m\n",
      "\n",
      "\u001b[1m> Finished chain.\u001b[0m\n",
      "\u001b[1m\u001b[92m [DEBUG]: == [Editor] Task output: # Unveiling the Latest Trends and Key Players in Artificial Intelligence\n",
      "\n",
      "## Introduction\n",
      "\n",
      "Artificial Intelligence (AI) has become increasingly essential in today's technology-driven world, revolutionizing various industries with its capabilities. The rapid advancements and innovations in AI have paved the way for groundbreaking applications, making it a pivotal area of interest for tech enthusiasts and professionals alike.\n",
      "\n",
      "## Latest Trends in Artificial Intelligence\n",
      "\n",
      "The latest trends in AI encompass a wide range of developments, from machine learning and deep learning algorithms to natural language processing and sentiment analysis. These technologies are driving significant advancements in AI applications, enabling AI-powered chatbots, virtual assistants, autonomous vehicles, and robotics to thrive in various sectors.\n",
      "\n",
      "AI is continuously evolving, with new trends emerging to shape the future of technology. Embracing these trends can lead to enhanced efficiency, improved decision-making processes, and innovative solutions in a world increasingly reliant on AI-driven systems.\n",
      "\n",
      "## Key Players in the AI Industry\n",
      "\n",
      "The AI industry boasts an array of key players that have significantly contributed to its growth and development. Companies like Google's DeepMind, IBM Watson, Amazon Web Services (AWS) AI, Microsoft Azure AI, OpenAI, and NVIDIA are at the forefront of AI innovation, driving progress and setting benchmarks for excellence in the field.\n",
      "\n",
      "These key players invest heavily in research and development to push the boundaries of AI capabilities, creating cutting-edge solutions and services that cater to diverse market needs. Their contributions not only shape the industry landscape but also inspire future generations of AI enthusiasts to explore the endless possibilities of artificial intelligence.\n",
      "\n",
      "## Noteworthy News in Artificial Intelligence\n",
      "\n",
      "Recent breakthroughs in AI research have captured the attention of the global community, showcasing the potential of AI to revolutionize various industries. From healthcare to finance, AI's impact is felt across sectors, offering new opportunities for growth, efficiency, and innovation.\n",
      "\n",
      "As AI continues to advance, ethical considerations and regulations have become crucial topics of discussion. The responsible development and deployment of AI technologies are essential to ensure their benefits are maximized while mitigating potential risks and challenges associated with their use.\n",
      "\n",
      "## Conclusion\n",
      "\n",
      "In conclusion, Artificial Intelligence remains a dynamic and rapidly evolving field, with the latest trends, key players, and noteworthy news shaping its trajectory. By staying informed about AI developments and innovations, individuals can leverage the power of AI to drive progress, foster innovation, and create a better future for all.\n",
      "\n",
      "As we navigate the ever-changing landscape of AI, it is essential to engage with the latest trends, understand the key players driving innovation, and stay informed about the significant news shaping the industry. By embracing AI's potential and exploring its practical applications, we can unlock new opportunities and possibilities that will shape the future of technology and society.\n",
      "\n",
      "**Call to Action:**\n",
      "Explore more about Artificial Intelligence by subscribing to our newsletter or attending AI-related events. Share your thoughts and experiences with AI in the comments section below.\n",
      "\n",
      "Remember, the future is AI, and by staying informed and engaged, we can harness its power to drive positive change and innovation in the world.\n",
      "\n",
      "\u001b[00m\n"
     ]
    }
   ],
   "source": [
    "result = crew.kickoff(inputs={\"topic\": \"Artificial Intelligence\"})"
   ]
  },
  {
   "cell_type": "markdown",
   "metadata": {},
   "source": [
    "- Display the results of your execution as markdown in the notebook."
   ]
  },
  {
   "cell_type": "code",
   "execution_count": 12,
   "metadata": {
    "height": 47
   },
   "outputs": [
    {
     "data": {
      "text/markdown": [
       "# Unveiling the Latest Trends and Key Players in Artificial Intelligence\n",
       "\n",
       "## Introduction\n",
       "\n",
       "Artificial Intelligence (AI) has become increasingly essential in today's technology-driven world, revolutionizing various industries with its capabilities. The rapid advancements and innovations in AI have paved the way for groundbreaking applications, making it a pivotal area of interest for tech enthusiasts and professionals alike.\n",
       "\n",
       "## Latest Trends in Artificial Intelligence\n",
       "\n",
       "The latest trends in AI encompass a wide range of developments, from machine learning and deep learning algorithms to natural language processing and sentiment analysis. These technologies are driving significant advancements in AI applications, enabling AI-powered chatbots, virtual assistants, autonomous vehicles, and robotics to thrive in various sectors.\n",
       "\n",
       "AI is continuously evolving, with new trends emerging to shape the future of technology. Embracing these trends can lead to enhanced efficiency, improved decision-making processes, and innovative solutions in a world increasingly reliant on AI-driven systems.\n",
       "\n",
       "## Key Players in the AI Industry\n",
       "\n",
       "The AI industry boasts an array of key players that have significantly contributed to its growth and development. Companies like Google's DeepMind, IBM Watson, Amazon Web Services (AWS) AI, Microsoft Azure AI, OpenAI, and NVIDIA are at the forefront of AI innovation, driving progress and setting benchmarks for excellence in the field.\n",
       "\n",
       "These key players invest heavily in research and development to push the boundaries of AI capabilities, creating cutting-edge solutions and services that cater to diverse market needs. Their contributions not only shape the industry landscape but also inspire future generations of AI enthusiasts to explore the endless possibilities of artificial intelligence.\n",
       "\n",
       "## Noteworthy News in Artificial Intelligence\n",
       "\n",
       "Recent breakthroughs in AI research have captured the attention of the global community, showcasing the potential of AI to revolutionize various industries. From healthcare to finance, AI's impact is felt across sectors, offering new opportunities for growth, efficiency, and innovation.\n",
       "\n",
       "As AI continues to advance, ethical considerations and regulations have become crucial topics of discussion. The responsible development and deployment of AI technologies are essential to ensure their benefits are maximized while mitigating potential risks and challenges associated with their use.\n",
       "\n",
       "## Conclusion\n",
       "\n",
       "In conclusion, Artificial Intelligence remains a dynamic and rapidly evolving field, with the latest trends, key players, and noteworthy news shaping its trajectory. By staying informed about AI developments and innovations, individuals can leverage the power of AI to drive progress, foster innovation, and create a better future for all.\n",
       "\n",
       "As we navigate the ever-changing landscape of AI, it is essential to engage with the latest trends, understand the key players driving innovation, and stay informed about the significant news shaping the industry. By embracing AI's potential and exploring its practical applications, we can unlock new opportunities and possibilities that will shape the future of technology and society.\n",
       "\n",
       "**Call to Action:**\n",
       "Explore more about Artificial Intelligence by subscribing to our newsletter or attending AI-related events. Share your thoughts and experiences with AI in the comments section below.\n",
       "\n",
       "Remember, the future is AI, and by staying informed and engaged, we can harness its power to drive positive change and innovation in the world."
      ],
      "text/plain": [
       "<IPython.core.display.Markdown object>"
      ]
     },
     "execution_count": 12,
     "metadata": {},
     "output_type": "execute_result"
    }
   ],
   "source": [
    "from IPython.display import Markdown\n",
    "Markdown(result)"
   ]
  },
  {
   "cell_type": "markdown",
   "metadata": {},
   "source": [
    "## Try it Yourself\n",
    "\n",
    "- Pass in a topic of your choice and see what the agents come up with!"
   ]
  },
  {
   "cell_type": "code",
   "execution_count": 13,
   "metadata": {
    "height": 64
   },
   "outputs": [
    {
     "name": "stdout",
     "output_type": "stream",
     "text": [
      "\u001b[1m\u001b[95m [DEBUG]: == Working Agent: Content Planner\u001b[00m\n",
      "\u001b[1m\u001b[95m [INFO]: == Starting Task: 1. Prioritize the latest trends, key players, and noteworthy news on machine learning.\n",
      "2. Identify the target audience, considering their interests and pain points.\n",
      "3. Develop a detailed content outline including an introduction, key points, and a call to action.\n",
      "4. Include SEO keywords and relevant data or sources.\u001b[00m\n",
      "\n",
      "\n",
      "\u001b[1m> Entering new CrewAgentExecutor chain...\u001b[0m\n",
      "\u001b[32;1m\u001b[1;3mI now can give a great answer\n",
      "\n",
      "Final Answer: \n",
      "\n",
      "Content Plan Document\n",
      "\n",
      "Title: The Latest Trends in Machine Learning: A Comprehensive Guide\n",
      "\n",
      "Introduction:\n",
      "- Definition of machine learning\n",
      "- Importance of staying updated on trends in machine learning\n",
      "\n",
      "Key Points:\n",
      "1. Latest Trends in Machine Learning:\n",
      "- Advancements in deep learning algorithms\n",
      "- Increased focus on interpretability and explainability in machine learning models\n",
      "- Growth of automated machine learning tools\n",
      "- Adoption of reinforcement learning in various industries\n",
      "- Integration of machine learning with Internet of Things (IoT) devices\n",
      "\n",
      "2. Key Players in the Machine Learning Industry:\n",
      "- Google - with TensorFlow and Cloud Machine Learning Engine\n",
      "- Microsoft - with Azure Machine Learning and Cognitive Services\n",
      "- Amazon - with Amazon SageMaker and Rekognition\n",
      "- IBM - with Watson Machine Learning and IBM Cloud\n",
      "- Facebook - with PyTorch and Prophet\n",
      "\n",
      "3. Noteworthy News in Machine Learning:\n",
      "- Recent studies or research findings in the field of machine learning\n",
      "- Acquisitions or partnerships among major companies in the machine learning industry\n",
      "- Updates on regulations and ethical considerations in machine learning\n",
      "\n",
      "Target Audience:\n",
      "- Data scientists, machine learning engineers, and AI enthusiasts\n",
      "- Professionals looking to implement machine learning in their organizations\n",
      "- Students and researchers in the field of artificial intelligence\n",
      "\n",
      "Audience Interests and Pain Points:\n",
      "- Interest in staying updated on the latest advancements in machine learning\n",
      "- Pain points include understanding complex algorithms and choosing the right tools for machine learning projects\n",
      "\n",
      "Content Outline:\n",
      "1. Introduction to machine learning and its importance\n",
      "2. Latest trends in machine learning\n",
      "3. Key players in the machine learning industry\n",
      "4. Noteworthy news in machine learning\n",
      "5. Audience-specific insights and recommendations\n",
      "6. Call to action for further learning and networking opportunities\n",
      "\n",
      "SEO Keywords:\n",
      "- Machine learning trends\n",
      "- Key players in machine learning\n",
      "- Latest news in machine learning\n",
      "- Machine learning advancements\n",
      "- Machine learning updates\n",
      "\n",
      "Resources:\n",
      "- Research papers from top conferences in machine learning (e.g., NeurIPS, ICML)\n",
      "- Reports from industry analysts like Gartner and Forrester on machine learning trends\n",
      "- Blogs and articles from leading machine learning experts and influencers\n",
      "- Websites of major companies in the machine learning industry for press releases and updates\n",
      "\n",
      "By following this comprehensive content plan, the blog article on the latest trends in machine learning will provide valuable insights and actionable information for the target audience, helping them make informed decisions in their machine learning projects and career development.\u001b[0m\n",
      "\n",
      "\u001b[1m> Finished chain.\u001b[0m\n",
      "\u001b[1m\u001b[92m [DEBUG]: == [Content Planner] Task output: Content Plan Document\n",
      "\n",
      "Title: The Latest Trends in Machine Learning: A Comprehensive Guide\n",
      "\n",
      "Introduction:\n",
      "- Definition of machine learning\n",
      "- Importance of staying updated on trends in machine learning\n",
      "\n",
      "Key Points:\n",
      "1. Latest Trends in Machine Learning:\n",
      "- Advancements in deep learning algorithms\n",
      "- Increased focus on interpretability and explainability in machine learning models\n",
      "- Growth of automated machine learning tools\n",
      "- Adoption of reinforcement learning in various industries\n",
      "- Integration of machine learning with Internet of Things (IoT) devices\n",
      "\n",
      "2. Key Players in the Machine Learning Industry:\n",
      "- Google - with TensorFlow and Cloud Machine Learning Engine\n",
      "- Microsoft - with Azure Machine Learning and Cognitive Services\n",
      "- Amazon - with Amazon SageMaker and Rekognition\n",
      "- IBM - with Watson Machine Learning and IBM Cloud\n",
      "- Facebook - with PyTorch and Prophet\n",
      "\n",
      "3. Noteworthy News in Machine Learning:\n",
      "- Recent studies or research findings in the field of machine learning\n",
      "- Acquisitions or partnerships among major companies in the machine learning industry\n",
      "- Updates on regulations and ethical considerations in machine learning\n",
      "\n",
      "Target Audience:\n",
      "- Data scientists, machine learning engineers, and AI enthusiasts\n",
      "- Professionals looking to implement machine learning in their organizations\n",
      "- Students and researchers in the field of artificial intelligence\n",
      "\n",
      "Audience Interests and Pain Points:\n",
      "- Interest in staying updated on the latest advancements in machine learning\n",
      "- Pain points include understanding complex algorithms and choosing the right tools for machine learning projects\n",
      "\n",
      "Content Outline:\n",
      "1. Introduction to machine learning and its importance\n",
      "2. Latest trends in machine learning\n",
      "3. Key players in the machine learning industry\n",
      "4. Noteworthy news in machine learning\n",
      "5. Audience-specific insights and recommendations\n",
      "6. Call to action for further learning and networking opportunities\n",
      "\n",
      "SEO Keywords:\n",
      "- Machine learning trends\n",
      "- Key players in machine learning\n",
      "- Latest news in machine learning\n",
      "- Machine learning advancements\n",
      "- Machine learning updates\n",
      "\n",
      "Resources:\n",
      "- Research papers from top conferences in machine learning (e.g., NeurIPS, ICML)\n",
      "- Reports from industry analysts like Gartner and Forrester on machine learning trends\n",
      "- Blogs and articles from leading machine learning experts and influencers\n",
      "- Websites of major companies in the machine learning industry for press releases and updates\n",
      "\n",
      "By following this comprehensive content plan, the blog article on the latest trends in machine learning will provide valuable insights and actionable information for the target audience, helping them make informed decisions in their machine learning projects and career development.\n",
      "\n",
      "\u001b[00m\n",
      "\u001b[1m\u001b[95m [DEBUG]: == Working Agent: Content Writer\u001b[00m\n",
      "\u001b[1m\u001b[95m [INFO]: == Starting Task: 1. Use the content plan to craft a compelling blog post on machine learning.\n",
      "2. Incorporate SEO keywords naturally.\n",
      "3. Sections/Subtitles are properly named in an engaging manner.\n",
      "4. Ensure the post is structured with an engaging introduction, insightful body, and a summarizing conclusion.\n",
      "5. Proofread for grammatical errors and alignment with the brand's voice.\n",
      "\u001b[00m\n",
      "\n",
      "\n",
      "\u001b[1m> Entering new CrewAgentExecutor chain...\u001b[0m\n",
      "\u001b[32;1m\u001b[1;3mI now can give a great answer\n",
      "\n",
      "Final Answer:\n",
      "\n",
      "# The Latest Trends in Machine Learning: A Comprehensive Guide\n",
      "\n",
      "## Introduction\n",
      "Machine learning, a subset of artificial intelligence, has been revolutionizing industries with its ability to analyze data and make predictions without explicit programming. Staying updated on the latest trends in machine learning is crucial for professionals in the field to remain competitive and innovative.\n",
      "\n",
      "## Latest Trends in Machine Learning\n",
      "Advancements in deep learning algorithms have been at the forefront of the latest trends in machine learning. These algorithms, inspired by the structure and function of the human brain, have enabled breakthroughs in image recognition, natural language processing, and speech recognition. Additionally, there has been an increased focus on interpretability and explainability in machine learning models, as stakeholders seek to understand the decision-making processes of these complex systems.\n",
      "\n",
      "The growth of automated machine learning tools has democratized the field, allowing individuals with limited coding experience to build and deploy machine learning models. Moreover, the adoption of reinforcement learning in various industries, such as finance and healthcare, has led to significant improvements in decision-making and optimization. Furthermore, the integration of machine learning with Internet of Things (IoT) devices has enabled the development of smart systems that can learn and adapt to their environments.\n",
      "\n",
      "## Key Players in the Machine Learning Industry\n",
      "Several key players in the machine learning industry are leading the way with innovative technologies and platforms. Google, with TensorFlow and Cloud Machine Learning Engine, has been a pioneer in the development of open-source machine learning frameworks. Microsoft offers Azure Machine Learning and Cognitive Services, empowering organizations to build intelligent applications with ease. Amazon's Amazon SageMaker and Rekognition have transformed how companies leverage machine learning for various use cases. IBM's Watson Machine Learning and IBM Cloud provide robust solutions for enterprise-scale machine learning projects. Facebook, with PyTorch and Prophet, continues to push the boundaries of machine learning research and applications.\n",
      "\n",
      "## Noteworthy News in Machine Learning\n",
      "Keeping up with the latest news in machine learning is essential for professionals in the field. Recent studies and research findings have explored topics such as ethical considerations in AI and the impact of bias in machine learning algorithms. Acquisitions and partnerships among major companies in the machine learning industry have reshaped the competitive landscape, driving innovation and collaboration. Updates on regulations and ethical considerations in machine learning highlight the importance of responsible AI development and deployment.\n",
      "\n",
      "In conclusion, the world of machine learning is evolving rapidly, with advancements in deep learning algorithms, the growth of automated machine learning tools, and the integration of machine learning with IoT devices shaping the future of the industry. Key players like Google, Microsoft, Amazon, IBM, and Facebook are driving innovation and setting the standard for excellence in machine learning technologies. Staying informed on the latest trends and news in machine learning is essential for professionals looking to stay ahead in this dynamic and exciting field.\u001b[0m\n",
      "\n",
      "\u001b[1m> Finished chain.\u001b[0m\n",
      "\u001b[1m\u001b[92m [DEBUG]: == [Content Writer] Task output: # The Latest Trends in Machine Learning: A Comprehensive Guide\n",
      "\n",
      "## Introduction\n",
      "Machine learning, a subset of artificial intelligence, has been revolutionizing industries with its ability to analyze data and make predictions without explicit programming. Staying updated on the latest trends in machine learning is crucial for professionals in the field to remain competitive and innovative.\n",
      "\n",
      "## Latest Trends in Machine Learning\n",
      "Advancements in deep learning algorithms have been at the forefront of the latest trends in machine learning. These algorithms, inspired by the structure and function of the human brain, have enabled breakthroughs in image recognition, natural language processing, and speech recognition. Additionally, there has been an increased focus on interpretability and explainability in machine learning models, as stakeholders seek to understand the decision-making processes of these complex systems.\n",
      "\n",
      "The growth of automated machine learning tools has democratized the field, allowing individuals with limited coding experience to build and deploy machine learning models. Moreover, the adoption of reinforcement learning in various industries, such as finance and healthcare, has led to significant improvements in decision-making and optimization. Furthermore, the integration of machine learning with Internet of Things (IoT) devices has enabled the development of smart systems that can learn and adapt to their environments.\n",
      "\n",
      "## Key Players in the Machine Learning Industry\n",
      "Several key players in the machine learning industry are leading the way with innovative technologies and platforms. Google, with TensorFlow and Cloud Machine Learning Engine, has been a pioneer in the development of open-source machine learning frameworks. Microsoft offers Azure Machine Learning and Cognitive Services, empowering organizations to build intelligent applications with ease. Amazon's Amazon SageMaker and Rekognition have transformed how companies leverage machine learning for various use cases. IBM's Watson Machine Learning and IBM Cloud provide robust solutions for enterprise-scale machine learning projects. Facebook, with PyTorch and Prophet, continues to push the boundaries of machine learning research and applications.\n",
      "\n",
      "## Noteworthy News in Machine Learning\n",
      "Keeping up with the latest news in machine learning is essential for professionals in the field. Recent studies and research findings have explored topics such as ethical considerations in AI and the impact of bias in machine learning algorithms. Acquisitions and partnerships among major companies in the machine learning industry have reshaped the competitive landscape, driving innovation and collaboration. Updates on regulations and ethical considerations in machine learning highlight the importance of responsible AI development and deployment.\n",
      "\n",
      "In conclusion, the world of machine learning is evolving rapidly, with advancements in deep learning algorithms, the growth of automated machine learning tools, and the integration of machine learning with IoT devices shaping the future of the industry. Key players like Google, Microsoft, Amazon, IBM, and Facebook are driving innovation and setting the standard for excellence in machine learning technologies. Staying informed on the latest trends and news in machine learning is essential for professionals looking to stay ahead in this dynamic and exciting field.\n",
      "\n",
      "\u001b[00m\n",
      "\u001b[1m\u001b[95m [DEBUG]: == Working Agent: Editor\u001b[00m\n",
      "\u001b[1m\u001b[95m [INFO]: == Starting Task: Proofread the given blog post for grammatical errors and alignment with the brand's voice.\u001b[00m\n",
      "\n",
      "\n",
      "\u001b[1m> Entering new CrewAgentExecutor chain...\u001b[0m\n"
     ]
    },
    {
     "name": "stdout",
     "output_type": "stream",
     "text": [
      "\u001b[32;1m\u001b[1;3mI now can give a great answer\n",
      "\n",
      "Final Answer:\n",
      "\n",
      "# The Latest Trends in Machine Learning: A Comprehensive Guide\n",
      "\n",
      "## Introduction\n",
      "Machine learning, a subset of artificial intelligence, has been revolutionizing industries with its ability to analyze data and make predictions without explicit programming. Staying updated on the latest trends in machine learning is crucial for professionals in the field to remain competitive and innovative.\n",
      "\n",
      "## Latest Trends in Machine Learning\n",
      "Advancements in deep learning algorithms have been at the forefront of the latest trends in machine learning. These algorithms, inspired by the structure and function of the human brain, have enabled breakthroughs in image recognition, natural language processing, and speech recognition. Additionally, there has been an increased focus on interpretability and explainability in machine learning models, as stakeholders seek to understand the decision-making processes of these complex systems.\n",
      "\n",
      "The growth of automated machine learning tools has democratized the field, allowing individuals with limited coding experience to build and deploy machine learning models. Moreover, the adoption of reinforcement learning in various industries, such as finance and healthcare, has led to significant improvements in decision-making and optimization. Furthermore, the integration of machine learning with Internet of Things (IoT) devices has enabled the development of smart systems that can learn and adapt to their environments.\n",
      "\n",
      "## Key Players in the Machine Learning Industry\n",
      "Several key players in the machine learning industry are leading the way with innovative technologies and platforms. Google, with TensorFlow and Cloud Machine Learning Engine, has been a pioneer in the development of open-source machine learning frameworks. Microsoft offers Azure Machine Learning and Cognitive Services, empowering organizations to build intelligent applications with ease. Amazon's Amazon SageMaker and Rekognition have transformed how companies leverage machine learning for various use cases. IBM's Watson Machine Learning and IBM Cloud provide robust solutions for enterprise-scale machine learning projects. Facebook, with PyTorch and Prophet, continues to push the boundaries of machine learning research and applications.\n",
      "\n",
      "## Noteworthy News in Machine Learning\n",
      "Keeping up with the latest news in machine learning is essential for professionals in the field. Recent studies and research findings have explored topics such as ethical considerations in AI and the impact of bias in machine learning algorithms. Acquisitions and partnerships among major companies in the machine learning industry have reshaped the competitive landscape, driving innovation and collaboration. Updates on regulations and ethical considerations in machine learning highlight the importance of responsible AI development and deployment.\n",
      "\n",
      "In conclusion, the world of machine learning is evolving rapidly, with advancements in deep learning algorithms, the growth of automated machine learning tools, and the integration of machine learning with IoT devices shaping the future of the industry. Key players like Google, Microsoft, Amazon, IBM, and Facebook are driving innovation and setting the standard for excellence in machine learning technologies. Staying informed on the latest trends and news in machine learning is essential for professionals looking to stay ahead in this dynamic and exciting field.\u001b[0m\n",
      "\n",
      "\u001b[1m> Finished chain.\u001b[0m\n",
      "\u001b[1m\u001b[92m [DEBUG]: == [Editor] Task output: # The Latest Trends in Machine Learning: A Comprehensive Guide\n",
      "\n",
      "## Introduction\n",
      "Machine learning, a subset of artificial intelligence, has been revolutionizing industries with its ability to analyze data and make predictions without explicit programming. Staying updated on the latest trends in machine learning is crucial for professionals in the field to remain competitive and innovative.\n",
      "\n",
      "## Latest Trends in Machine Learning\n",
      "Advancements in deep learning algorithms have been at the forefront of the latest trends in machine learning. These algorithms, inspired by the structure and function of the human brain, have enabled breakthroughs in image recognition, natural language processing, and speech recognition. Additionally, there has been an increased focus on interpretability and explainability in machine learning models, as stakeholders seek to understand the decision-making processes of these complex systems.\n",
      "\n",
      "The growth of automated machine learning tools has democratized the field, allowing individuals with limited coding experience to build and deploy machine learning models. Moreover, the adoption of reinforcement learning in various industries, such as finance and healthcare, has led to significant improvements in decision-making and optimization. Furthermore, the integration of machine learning with Internet of Things (IoT) devices has enabled the development of smart systems that can learn and adapt to their environments.\n",
      "\n",
      "## Key Players in the Machine Learning Industry\n",
      "Several key players in the machine learning industry are leading the way with innovative technologies and platforms. Google, with TensorFlow and Cloud Machine Learning Engine, has been a pioneer in the development of open-source machine learning frameworks. Microsoft offers Azure Machine Learning and Cognitive Services, empowering organizations to build intelligent applications with ease. Amazon's Amazon SageMaker and Rekognition have transformed how companies leverage machine learning for various use cases. IBM's Watson Machine Learning and IBM Cloud provide robust solutions for enterprise-scale machine learning projects. Facebook, with PyTorch and Prophet, continues to push the boundaries of machine learning research and applications.\n",
      "\n",
      "## Noteworthy News in Machine Learning\n",
      "Keeping up with the latest news in machine learning is essential for professionals in the field. Recent studies and research findings have explored topics such as ethical considerations in AI and the impact of bias in machine learning algorithms. Acquisitions and partnerships among major companies in the machine learning industry have reshaped the competitive landscape, driving innovation and collaboration. Updates on regulations and ethical considerations in machine learning highlight the importance of responsible AI development and deployment.\n",
      "\n",
      "In conclusion, the world of machine learning is evolving rapidly, with advancements in deep learning algorithms, the growth of automated machine learning tools, and the integration of machine learning with IoT devices shaping the future of the industry. Key players like Google, Microsoft, Amazon, IBM, and Facebook are driving innovation and setting the standard for excellence in machine learning technologies. Staying informed on the latest trends and news in machine learning is essential for professionals looking to stay ahead in this dynamic and exciting field.\n",
      "\n",
      "\u001b[00m\n"
     ]
    }
   ],
   "source": [
    "#topic = \"YOUR TOPIC HERE\"\n",
    "topic = \"machine learning\"\n",
    "result = crew.kickoff(inputs={\"topic\": topic})"
   ]
  },
  {
   "cell_type": "code",
   "execution_count": 14,
   "metadata": {
    "height": 30
   },
   "outputs": [
    {
     "data": {
      "text/markdown": [
       "# The Latest Trends in Machine Learning: A Comprehensive Guide\n",
       "\n",
       "## Introduction\n",
       "Machine learning, a subset of artificial intelligence, has been revolutionizing industries with its ability to analyze data and make predictions without explicit programming. Staying updated on the latest trends in machine learning is crucial for professionals in the field to remain competitive and innovative.\n",
       "\n",
       "## Latest Trends in Machine Learning\n",
       "Advancements in deep learning algorithms have been at the forefront of the latest trends in machine learning. These algorithms, inspired by the structure and function of the human brain, have enabled breakthroughs in image recognition, natural language processing, and speech recognition. Additionally, there has been an increased focus on interpretability and explainability in machine learning models, as stakeholders seek to understand the decision-making processes of these complex systems.\n",
       "\n",
       "The growth of automated machine learning tools has democratized the field, allowing individuals with limited coding experience to build and deploy machine learning models. Moreover, the adoption of reinforcement learning in various industries, such as finance and healthcare, has led to significant improvements in decision-making and optimization. Furthermore, the integration of machine learning with Internet of Things (IoT) devices has enabled the development of smart systems that can learn and adapt to their environments.\n",
       "\n",
       "## Key Players in the Machine Learning Industry\n",
       "Several key players in the machine learning industry are leading the way with innovative technologies and platforms. Google, with TensorFlow and Cloud Machine Learning Engine, has been a pioneer in the development of open-source machine learning frameworks. Microsoft offers Azure Machine Learning and Cognitive Services, empowering organizations to build intelligent applications with ease. Amazon's Amazon SageMaker and Rekognition have transformed how companies leverage machine learning for various use cases. IBM's Watson Machine Learning and IBM Cloud provide robust solutions for enterprise-scale machine learning projects. Facebook, with PyTorch and Prophet, continues to push the boundaries of machine learning research and applications.\n",
       "\n",
       "## Noteworthy News in Machine Learning\n",
       "Keeping up with the latest news in machine learning is essential for professionals in the field. Recent studies and research findings have explored topics such as ethical considerations in AI and the impact of bias in machine learning algorithms. Acquisitions and partnerships among major companies in the machine learning industry have reshaped the competitive landscape, driving innovation and collaboration. Updates on regulations and ethical considerations in machine learning highlight the importance of responsible AI development and deployment.\n",
       "\n",
       "In conclusion, the world of machine learning is evolving rapidly, with advancements in deep learning algorithms, the growth of automated machine learning tools, and the integration of machine learning with IoT devices shaping the future of the industry. Key players like Google, Microsoft, Amazon, IBM, and Facebook are driving innovation and setting the standard for excellence in machine learning technologies. Staying informed on the latest trends and news in machine learning is essential for professionals looking to stay ahead in this dynamic and exciting field."
      ],
      "text/plain": [
       "<IPython.core.display.Markdown object>"
      ]
     },
     "execution_count": 14,
     "metadata": {},
     "output_type": "execute_result"
    }
   ],
   "source": [
    "Markdown(result)"
   ]
  },
  {
   "cell_type": "markdown",
   "metadata": {},
   "source": [
    "<a name='1'></a>\n",
    " ## Other Popular Models as LLM for your Agents"
   ]
  },
  {
   "cell_type": "markdown",
   "metadata": {},
   "source": [
    "#### Hugging Face (HuggingFaceHub endpoint)\n",
    "\n",
    "```Python\n",
    "from langchain_community.llms import HuggingFaceHub\n",
    "\n",
    "llm = HuggingFaceHub(\n",
    "    repo_id=\"HuggingFaceH4/zephyr-7b-beta\",\n",
    "    huggingfacehub_api_token=\"<HF_TOKEN_HERE>\",\n",
    "    task=\"text-generation\",\n",
    ")\n",
    "\n",
    "### you will pass \"llm\" to your agent function\n",
    "```"
   ]
  },
  {
   "cell_type": "markdown",
   "metadata": {},
   "source": [
    "#### Mistral API\n",
    "\n",
    "```Python\n",
    "OPENAI_API_KEY=your-mistral-api-key\n",
    "OPENAI_API_BASE=https://api.mistral.ai/v1\n",
    "OPENAI_MODEL_NAME=\"mistral-small\"\n",
    "```"
   ]
  },
  {
   "cell_type": "markdown",
   "metadata": {},
   "source": [
    "#### Cohere\n",
    "\n",
    "```Python\n",
    "from langchain_community.chat_models import ChatCohere\n",
    "# Initialize language model\n",
    "os.environ[\"COHERE_API_KEY\"] = \"your-cohere-api-key\"\n",
    "llm = ChatCohere()\n",
    "\n",
    "### you will pass \"llm\" to your agent function\n",
    "```"
   ]
  },
  {
   "cell_type": "markdown",
   "metadata": {},
   "source": [
    "### For using Llama locally with Ollama and more, checkout the crewAI documentation on [Connecting to any LLM](https://docs.crewai.com/how-to/LLM-Connections/)."
   ]
  },
  {
   "cell_type": "code",
   "execution_count": null,
   "metadata": {
    "height": 30
   },
   "outputs": [],
   "source": []
  },
  {
   "cell_type": "code",
   "execution_count": null,
   "metadata": {
    "height": 30
   },
   "outputs": [],
   "source": []
  },
  {
   "cell_type": "code",
   "execution_count": null,
   "metadata": {
    "height": 30
   },
   "outputs": [],
   "source": []
  }
 ],
 "metadata": {
  "colab": {
   "gpuType": "T4",
   "provenance": []
  },
  "kernelspec": {
   "display_name": "Python 3 (ipykernel)",
   "language": "python",
   "name": "python3"
  },
  "language_info": {
   "codemirror_mode": {
    "name": "ipython",
    "version": 3
   },
   "file_extension": ".py",
   "mimetype": "text/x-python",
   "name": "python",
   "nbconvert_exporter": "python",
   "pygments_lexer": "ipython3",
   "version": "3.11.9"
  }
 },
 "nbformat": 4,
 "nbformat_minor": 4
}
